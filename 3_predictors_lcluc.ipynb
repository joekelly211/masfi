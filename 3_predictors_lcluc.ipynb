{
  "cells": [
    {
      "cell_type": "markdown",
      "metadata": {
        "id": "view-in-github",
        "colab_type": "text"
      },
      "source": [
        "<a href=\"https://colab.research.google.com/github/joekelly211/masfi/blob/main/3_predictors_lcluc.ipynb\" target=\"_parent\"><img src=\"https://colab.research.google.com/assets/colab-badge.svg\" alt=\"Open In Colab\"/></a>"
      ]
    },
    {
      "cell_type": "markdown",
      "metadata": {
        "id": "-yk8CnJRCYVQ"
      },
      "source": [
        "# Imports, directories and global functions"
      ]
    },
    {
      "cell_type": "code",
      "execution_count": null,
      "metadata": {
        "colab": {
          "base_uri": "https://localhost:8080/"
        },
        "id": "5USlWSaxqv9Y",
        "outputId": "4675ef33-e792-4cbd-952d-fbe13264a1e3"
      },
      "outputs": [
        {
          "output_type": "stream",
          "name": "stdout",
          "text": [
            "Mounted at /gdrive\n"
          ]
        }
      ],
      "source": [
        "# Define base directory\n",
        "base_dir = \"/gdrive/Shareddrives/masfi\"\n",
        "\n",
        "# Mount Google Drive and set base directory\n",
        "from google.colab import drive\n",
        "import os\n",
        "import sys\n",
        "drive.mount('/gdrive', force_remount=True)\n",
        "_path_to_add = os.path.realpath(base_dir)\n",
        "if _path_to_add not in sys.path:\n",
        "    sys.path.append(_path_to_add)"
      ]
    },
    {
      "cell_type": "code",
      "execution_count": null,
      "metadata": {
        "id": "VOfy6gWFwHEC"
      },
      "outputs": [],
      "source": [
        "# Installs\n",
        "%%capture\n",
        "!pip install astropy\n",
        "!pip install earthengine-api\n",
        "!pip install geopandas"
      ]
    },
    {
      "cell_type": "code",
      "execution_count": null,
      "metadata": {
        "id": "xTHaRSv8wICv"
      },
      "outputs": [],
      "source": [
        "!# Reload imports, replacing those in the cache\n",
        "%load_ext autoreload\n",
        "%autoreload 2\n",
        "# Imports\n",
        "from astropy.convolution import convolve, Gaussian2DKernel\n",
        "import csv\n",
        "import ee\n",
        "import geopandas as gpd\n",
        "import glob\n",
        "from google.colab import runtime, userdata\n",
        "import ipywidgets as widgets\n",
        "import matplotlib.pyplot as plt\n",
        "import numpy as np\n",
        "from os import makedirs, remove\n",
        "from os.path import exists, join\n",
        "from osgeo import gdal, gdalconst\n",
        "from scipy.ndimage import distance_transform_edt\n",
        "from scipy.ndimage import label, sum as ndi_sum\n",
        "from shutil import copyfile\n",
        "from time import sleep"
      ]
    },
    {
      "cell_type": "code",
      "execution_count": null,
      "metadata": {
        "id": "JMCq50kg36Br"
      },
      "outputs": [],
      "source": [
        "# 1_areas directories\n",
        "areas_dir = join(base_dir, \"1_areas\")\n",
        "polygons_dir = join(areas_dir, \"polygons\")\n",
        "template_dir = join(areas_dir, \"template.tif\")\n",
        "\n",
        "# 3_predictors directories\n",
        "predictors_dir = join(base_dir, \"3_predictors\")\n",
        "ee_dir = join(predictors_dir, \"earth_engine\")\n",
        "user_upload_dir = join(predictors_dir, \"user_upload\")\n",
        "glad_lcluc_dir = join(predictors_dir, 'glad_lcluc')\n",
        "resampled_dir = join(predictors_dir, \"resampled\")\n",
        "continuous_final_dir = join(predictors_dir, \"continuous_final\")\n",
        "binary_dir = join(predictors_dir, 'binary')\n",
        "edge_effects_dir = join(predictors_dir, 'binary_edge_effects')\n",
        "\n",
        "# 6_scenarios directories\n",
        "scenario_dir = join(base_dir, \"6_scenarios\")\n",
        "scenario_mask_dir = join(scenario_dir, \"scenario_masks\")\n",
        "\n",
        "# Create directories\n",
        "makedirs(ee_dir, exist_ok=True)\n",
        "makedirs(user_upload_dir, exist_ok=True)\n",
        "makedirs(glad_lcluc_dir, exist_ok=True)\n",
        "makedirs(resampled_dir, exist_ok=True)\n",
        "makedirs(continuous_final_dir, exist_ok=True)\n",
        "makedirs(binary_dir, exist_ok=True)\n",
        "makedirs(edge_effects_dir, exist_ok=True)\n",
        "makedirs(scenario_dir, exist_ok=True)\n",
        "makedirs(scenario_mask_dir, exist_ok=True)"
      ]
    },
    {
      "cell_type": "code",
      "execution_count": null,
      "metadata": {
        "id": "jhkgXF4foXhx"
      },
      "outputs": [],
      "source": [
        "# export_array_as_tif function\n",
        "nodatavalue = -1111111\n",
        "compress = True\n",
        "def export_array_as_tif(input_array, output_tif, template=template_dir, nodatavalue=nodatavalue, compress=compress):\n",
        "  template = gdal.Open(template)\n",
        "  template_band = template.GetRasterBand(1)\n",
        "  template_dimensions, template_projection = template.GetGeoTransform(), template.GetProjection()\n",
        "  if compress: driver = gdal.GetDriverByName(\"GTiff\").Create(output_tif, template_band.XSize, template_band.YSize, bands=1, eType=gdal.GDT_Float32,\n",
        "                                                options=[\"COMPRESS=DEFLATE\",\"PREDICTOR=2\",\"ZLEVEL=9\"])\n",
        "  if compress == False: driver = gdal.GetDriverByName(\"GTiff\").Create(output_tif, template_band.XSize, template_band.YSize, bands=1, eType=gdal.GDT_Float32)\n",
        "  driver.GetRasterBand(1).WriteArray(input_array)\n",
        "  driver.GetRasterBand(1).SetNoDataValue(nodatavalue)\n",
        "  driver.SetGeoTransform(template_dimensions)\n",
        "  driver.SetProjection(template_projection)\n",
        "\n",
        "# Burn a polygon to raster\n",
        "def burn_polygon_to_raster(raster_path, polygon_path, fixed=True, fixed_value=1, column_name=None, all_touched=True):\n",
        "    raster = gdal.Open(raster_path, gdal.GA_Update)\n",
        "    vector = ogr.Open(polygon_path)\n",
        "    layer = vector.GetLayer()\n",
        "    if all_touched: options = [\"ALL_TOUCHED=TRUE\"]\n",
        "    else: options = []\n",
        "    if not fixed: options.append(f\"ATTRIBUTE={column_name or layer.GetLayerDefn().GetFieldDefn(0).GetName()}\")\n",
        "    gdal.RasterizeLayer(raster, [1], layer,\n",
        "                        burn_values=[fixed_value] if fixed else None,\n",
        "                        options=options)\n",
        "    raster.FlushCache()\n",
        "    raster = vector = None"
      ]
    },
    {
      "cell_type": "markdown",
      "metadata": {
        "id": "kSuevzw7xyil"
      },
      "source": [
        "# Download Earth Engine rasters"
      ]
    },
    {
      "cell_type": "code",
      "execution_count": null,
      "metadata": {
        "id": "F_wg4IqHpFXT"
      },
      "outputs": [],
      "source": [
        "# Enable Google Earth Engine API at Google Cloud https://console.cloud.google.com/apis/dashboard\n",
        "# See here for walkthrough: https://github.com/googlecolab/colabtools/issues/4228#issuecomment-1859068706\n",
        "# Set project ID under 'secrets' tab on the left with the name 'google_cloud_project'\n",
        "ee_project = userdata.get('google_cloud_project')\n",
        "\n",
        "# Authenticate Earth Engine\n",
        "ee.Authenticate()\n",
        "ee.Initialize(project=ee_project)"
      ]
    },
    {
      "cell_type": "code",
      "execution_count": null,
      "metadata": {
        "id": "ddVd9lPMbLOL"
      },
      "outputs": [],
      "source": [
        "# Edit this section to change which Earth Engine datasets are downloaded.\n",
        "\n",
        "# Warning: Earth Engine uses 'nearest neighbour' to resample rasters to the desired extent and resolution before exporting.\n",
        "# This creates artifacts if the data is continuous, such as DEMs (elevation) or other topographic metrics.\n",
        "# These should be downloaded from the original source, uploaded to '/user_upload' and resampled in the next section, checking the option for 'bilinear'.\n",
        "\n",
        "# Check datasets in https://code.earthengine.google.com/ with:\n",
        "# var assetList = ee.data.listAssets(\"projects/JRC/TMF/v1_2022/\");\n",
        "# print(assetList);\n",
        "\n",
        "ee_datasets = [\n",
        "\n",
        "    {\n",
        "        \"ee_dataset_name\": \"tmf\",\n",
        "        \"ee_dataset_type\": \"ImageCollection\",\n",
        "        \"ee_paths\": [\n",
        "            \"projects/JRC/TMF/v1_2023/AnnualChanges\",\n",
        "            \"projects/JRC/TMF/v1_2023/AnnualDisruptionObs2023\",\n",
        "            \"projects/JRC/TMF/v1_2023/TransitionMap_MainClasses\",\n",
        "            \"projects/JRC/TMF/v1_2023/TransitionMap_Subtypes\",\n",
        "            \"projects/JRC/TMF/v1_2023/Ndisturb_C2_1982_2022\",\n",
        "        ],\n",
        "    }\n",
        "    # {\n",
        "    #     \"ee_dataset_name\": \"glad\",\n",
        "    #     \"ee_dataset_type\": \"Image\",\n",
        "    #     \"ee_paths\": [\n",
        "    #                 # 'projects/glad/GLCLU2020/Forest_gain',\n",
        "    #                 'projects/glad/GLCLU2020/Forest_height_2000',\n",
        "    #                 'projects/glad/GLCLU2020/Forest_height_2005',\n",
        "    #                 'projects/glad/GLCLU2020/Forest_height_2010',\n",
        "    #                 'projects/glad/GLCLU2020/Forest_height_2015',\n",
        "    #                 'projects/glad/GLCLU2020/Forest_height_2020',\n",
        "    #                 'projects/glad/GLCLU2020/Forest_height_disturbance',\n",
        "    #                 'projects/glad/GLCLU2020/Forest_height_netgain',\n",
        "    #                 'projects/glad/GLCLU2020/Forest_height_netloss',\n",
        "    #                 # 'projects/glad/GLCLU2020/Forest_loss',\n",
        "    #                 # 'projects/glad/GLCLU2020/Forest_type',\n",
        "    #                 'projects/glad/GLCLU2020/LCLUC',\n",
        "    #                 'projects/glad/GLCLU2020/LCLUC_2000',\n",
        "    #                 'projects/glad/GLCLU2020/LCLUC_2020',\n",
        "    #                 'projects/glad/GLCLU2020/Vegetation_cover_2000',\n",
        "    #                 'projects/glad/GLCLU2020/Vegetation_cover_2005',\n",
        "    #                 'projects/glad/GLCLU2020/Vegetation_cover_2010',\n",
        "    #                 'projects/glad/GLCLU2020/Vegetation_cover_2015',\n",
        "    #                 'projects/glad/GLCLU2020/Vegetation_cover_2020',\n",
        "    #                 'projects/glad/GLCLU2020/Vegetation_cover_gain',\n",
        "    #                 'projects/glad/GLCLU2020/Vegetation_cover_loss',\n",
        "    #                 'projects/glad/GLCLU2020/Water_2000',\n",
        "    #                 'projects/glad/GLCLU2020/Water_2005',\n",
        "    #                 'projects/glad/GLCLU2020/Water_2010',\n",
        "    #                 'projects/glad/GLCLU2020/Water_2015',\n",
        "    #                 'projects/glad/GLCLU2020/Water_2020',\n",
        "    #                 # 'projects/glad/GLCLU2020/Water_dynamics',\n",
        "    #                 # 'projects/glad/GLCLU2020/Water_dynamics_classes',\n",
        "    #     ]\n",
        "    # }\n",
        "]"
      ]
    },
    {
      "cell_type": "code",
      "execution_count": null,
      "metadata": {
        "colab": {
          "base_uri": "https://localhost:8080/"
        },
        "id": "BIlnNYhQcb10",
        "outputId": "3e3cf285-96a4-41c5-d3cf-74862a6fc55b"
      },
      "outputs": [
        {
          "data": {
            "text/plain": [
              "['tmf_Ndisturb_C2_1982_2022_y2022.tif',\n",
              " 'tmf_Ndisturb_C2_1982_2022_y2021.tif',\n",
              " 'tmf_Ndisturb_C2_1982_2022_y2020.tif',\n",
              " 'tmf_Ndisturb_C2_1982_2022_y2019.tif',\n",
              " 'tmf_Ndisturb_C2_1982_2022_y2018.tif',\n",
              " 'tmf_Ndisturb_C2_1982_2022_y2017.tif',\n",
              " 'tmf_Ndisturb_C2_1982_2022_y2016.tif',\n",
              " 'tmf_Ndisturb_C2_1982_2022_y2015.tif',\n",
              " 'tmf_Ndisturb_C2_1982_2022_y2014.tif',\n",
              " 'tmf_Ndisturb_C2_1982_2022_y2013.tif',\n",
              " 'tmf_Ndisturb_C2_1982_2022_y2012.tif',\n",
              " 'tmf_Ndisturb_C2_1982_2022_y2011.tif',\n",
              " 'tmf_Ndisturb_C2_1982_2022_y2010.tif',\n",
              " 'tmf_Ndisturb_C2_1982_2022_y2009.tif',\n",
              " 'tmf_Ndisturb_C2_1982_2022_y2008.tif',\n",
              " 'tmf_Ndisturb_C2_1982_2022_y2007.tif',\n",
              " 'tmf_Ndisturb_C2_1982_2022_y2006.tif',\n",
              " 'tmf_Ndisturb_C2_1982_2022_y2005.tif',\n",
              " 'tmf_Ndisturb_C2_1982_2022_y2004.tif',\n",
              " 'tmf_Ndisturb_C2_1982_2022_y2003.tif',\n",
              " 'tmf_Ndisturb_C2_1982_2022_y2002.tif',\n",
              " 'tmf_Ndisturb_C2_1982_2022_y2001.tif',\n",
              " 'tmf_Ndisturb_C2_1982_2022_y2000.tif',\n",
              " 'tmf_Ndisturb_C2_1982_2022_y1999.tif',\n",
              " 'tmf_Ndisturb_C2_1982_2022_y1998.tif',\n",
              " 'tmf_Ndisturb_C2_1982_2022_y1997.tif',\n",
              " 'tmf_Ndisturb_C2_1982_2022_y1996.tif',\n",
              " 'tmf_Ndisturb_C2_1982_2022_y1995.tif',\n",
              " 'tmf_Ndisturb_C2_1982_2022_y1994.tif',\n",
              " 'tmf_Ndisturb_C2_1982_2022_y1993.tif',\n",
              " 'tmf_Ndisturb_C2_1982_2022_y1992.tif',\n",
              " 'tmf_Ndisturb_C2_1982_2022_y1991.tif',\n",
              " 'tmf_Ndisturb_C2_1982_2022_y1990.tif',\n",
              " 'tmf_Ndisturb_C2_1982_2022_y1989.tif',\n",
              " 'tmf_Ndisturb_C2_1982_2022_y1988.tif',\n",
              " 'tmf_Ndisturb_C2_1982_2022_y1987.tif',\n",
              " 'tmf_Ndisturb_C2_1982_2022_y1986.tif',\n",
              " 'tmf_Ndisturb_C2_1982_2022_y1985.tif',\n",
              " 'tmf_Ndisturb_C2_1982_2022_y1984.tif',\n",
              " 'tmf_Ndisturb_C2_1982_2022_y1983.tif',\n",
              " 'tmf_Ndisturb_C2_1982_2022_y1982.tif',\n",
              " 'tmf_TransitionMap_Subtypes_TransitionMap_Subtypes.tif',\n",
              " 'tmf_TransitionMap_MainClasses_TransitionMap_MainClasses.tif',\n",
              " 'tmf_AnnualDisruptionObs2023_y2023.tif',\n",
              " 'tmf_AnnualChanges_Dec2023.tif',\n",
              " 'tmf_AnnualChanges_Dec2022.tif',\n",
              " 'tmf_AnnualChanges_Dec2021.tif',\n",
              " 'tmf_AnnualChanges_Dec2020.tif',\n",
              " 'tmf_AnnualChanges_Dec2019.tif',\n",
              " 'tmf_AnnualChanges_Dec2018.tif',\n",
              " 'tmf_AnnualChanges_Dec2017.tif',\n",
              " 'tmf_AnnualChanges_Dec2016.tif',\n",
              " 'tmf_AnnualChanges_Dec2015.tif',\n",
              " 'tmf_AnnualChanges_Dec2014.tif',\n",
              " 'tmf_AnnualChanges_Dec2013.tif',\n",
              " 'tmf_AnnualChanges_Dec2012.tif',\n",
              " 'tmf_AnnualChanges_Dec2011.tif',\n",
              " 'tmf_AnnualChanges_Dec2010.tif',\n",
              " 'tmf_AnnualChanges_Dec2009.tif',\n",
              " 'tmf_AnnualChanges_Dec2008.tif',\n",
              " 'tmf_AnnualChanges_Dec2007.tif',\n",
              " 'tmf_AnnualChanges_Dec2006.tif',\n",
              " 'tmf_AnnualChanges_Dec2005.tif',\n",
              " 'tmf_AnnualChanges_Dec2004.tif',\n",
              " 'tmf_AnnualChanges_Dec2003.tif',\n",
              " 'tmf_AnnualChanges_Dec2002.tif',\n",
              " 'tmf_AnnualChanges_Dec2001.tif',\n",
              " 'tmf_AnnualChanges_Dec2000.tif',\n",
              " 'tmf_AnnualChanges_Dec1999.tif',\n",
              " 'tmf_AnnualChanges_Dec1998.tif',\n",
              " 'tmf_AnnualChanges_Dec1997.tif',\n",
              " 'tmf_AnnualChanges_Dec1996.tif',\n",
              " 'tmf_AnnualChanges_Dec1995.tif',\n",
              " 'tmf_AnnualChanges_Dec1994.tif',\n",
              " 'tmf_AnnualChanges_Dec1993.tif',\n",
              " 'tmf_AnnualChanges_Dec1992.tif',\n",
              " 'tmf_AnnualChanges_Dec1991.tif',\n",
              " 'tmf_AnnualChanges_Dec1990.tif']"
            ]
          },
          "execution_count": 8,
          "metadata": {},
          "output_type": "execute_result"
        }
      ],
      "source": [
        "# Verify Earth Engine rasters that will be downloaded\n",
        "ee_raster_list = []\n",
        "for ee_dataset in ee_datasets:\n",
        "    ee_dataset_name = ee_dataset['ee_dataset_name']\n",
        "    ee_dataset_type = ee_dataset['ee_dataset_type']\n",
        "    ee_paths = ee_dataset['ee_paths']\n",
        "    for ee_path in ee_paths:\n",
        "        if ee_dataset_type == 'ImageCollection':\n",
        "            ee_image = ee.ImageCollection(ee_path)\n",
        "            ee_bands = [b['id'] for b in ee_image.getInfo()['features'][0]['bands']]\n",
        "        else:\n",
        "            ee_image = ee.Image(ee_path)\n",
        "            ee_bands = ee_image.bandNames().getInfo()\n",
        "        for ee_band in ee_bands:\n",
        "            ee_tif_filename = f\"{ee_dataset_name}_{ee_path.split('/')[-1]}_{ee_band}.tif\"\n",
        "            ee_raster_list.append(ee_tif_filename)\n",
        "\n",
        "ee_raster_list = list(reversed(ee_raster_list))\n",
        "ee_raster_list"
      ]
    },
    {
      "cell_type": "code",
      "execution_count": null,
      "metadata": {
        "colab": {
          "background_save": true,
          "base_uri": "https://localhost:8080/",
          "height": 49,
          "referenced_widgets": [
            "d7289e1e5e5e4ce0a8e1599e41ca7ecf"
          ]
        },
        "id": "qislgFIYUnqi",
        "outputId": "78332bdc-e53a-43f3-c459-444c1dcc5262"
      },
      "outputs": [
        {
          "data": {
            "application/vnd.jupyter.widget-view+json": {
              "model_id": "d7289e1e5e5e4ce0a8e1599e41ca7ecf",
              "version_major": 2,
              "version_minor": 0
            },
            "text/plain": [
              "Label(value='Earth Engine download progress: 0/78')"
            ]
          },
          "metadata": {},
          "output_type": "display_data"
        }
      ],
      "source": [
        "# Check whether using mydrive as opposed to a shared gdrive\n",
        "mydrive_mounted = False\n",
        "\n",
        "# Earth Engine download progress\n",
        "ee_progress_index = 0\n",
        "ee_progress_label = widgets.Label(f\"Earth Engine download progress: {ee_progress_index}/{len(ee_raster_list)}\")\n",
        "display(ee_progress_label)\n",
        "\n",
        "# Load template and set Earth Engine geometry\n",
        "template_polygon_dir = join(polygons_dir, 'template.gpkg')\n",
        "template_area = gpd.read_file(template_polygon_dir)[\"geometry\"].iloc[0]\n",
        "template_coords = list(gpd.read_file(template_polygon_dir)[\"geometry\"].iloc[0].exterior.coords)\n",
        "ee_geometry = ee.Geometry.Polygon(template_coords)\n",
        "\n",
        "# Download Earth Engine datasets\n",
        "for ee_dataset in ee_datasets:\n",
        "    ee_dataset_name = ee_dataset['ee_dataset_name']\n",
        "    ee_dataset_type = ee_dataset['ee_dataset_type']\n",
        "    ee_paths = ee_dataset['ee_paths']\n",
        "    # Loop through Earth Engine paths\n",
        "    for ee_path in ee_paths:\n",
        "        # identify bands\n",
        "        if ee_dataset_type == 'ImageCollection':\n",
        "            ee_image = ee.ImageCollection(ee_path)\n",
        "            ee_bands = [b['id'] for b in ee_image.getInfo()['features'][0]['bands']]\n",
        "        elif ee_dataset_type == 'Image':\n",
        "            ee_image = ee.Image(ee_path)\n",
        "            ee_bands = ee_image.bandNames().getInfo()\n",
        "        # Loop through bands\n",
        "        for ee_band in reversed(ee_bands):\n",
        "            # Set filename and directory of downloaded raster and check if exists\n",
        "            ee_tif_filename = f\"{ee_dataset_name}_{ee_path.split('/')[-1]}_{ee_band}.tif\"\n",
        "            ee_tif_dir = join(ee_dir, ee_tif_filename)\n",
        "            ee_temp_dir = join(\"/gdrive/MyDrive\", ee_tif_filename)\n",
        "            if mydrive_mounted: ee_temp_dir = join(\"/content/drive/MyDrive/\", ee_tif_filename)\n",
        "            # Check if temporary raster exists and needs copying\n",
        "            if exists(ee_temp_dir):\n",
        "              copyfile(ee_temp_dir, ee_tif_dir)\n",
        "              remove(ee_temp_dir)\n",
        "            # Check if copied raster exists, and if not download from Earth Engine.\n",
        "            if not exists(ee_tif_dir):\n",
        "              if ee_dataset_type == 'ImageCollection':\n",
        "                image_selected = ee_image.qualityMosaic(ee_band).select([ee_band])\n",
        "                resolution = ee_image.first().projection().nominalScale().getInfo()\n",
        "              if ee_dataset_type == 'Image':\n",
        "                image_selected = ee_image.select([ee_band])\n",
        "                resolution = ee_image.select(0).projection().nominalScale().getInfo()\n",
        "              ee_task = ee.batch.Export.image.toDrive(image=image_selected.toFloat(),\n",
        "                                                    description=ee_tif_filename[:-4],\n",
        "                                                    scale=resolution,\n",
        "                                                    region=ee_geometry,\n",
        "                                                    maxPixels=10000000000,\n",
        "                                                    fileNamePrefix=ee_tif_filename[:-4],\n",
        "                                                    crs='EPSG:4326',\n",
        "                                                    fileFormat='GeoTIFF')\n",
        "              ee_task.start()\n",
        "              # Check whether the raster has downloaded yet\n",
        "              while not exists(ee_temp_dir):\n",
        "                  ee_task_status = ee_task.status()\n",
        "                  # If the task is completed, continue\n",
        "                  if ee_task_status[\"state\"] == 'COMPLETED': break\n",
        "                  # If it has failed or been cancelled, show an error\n",
        "                  elif ee_task_status['state'] == 'FAILED' or ee_task_status['state'] == 'CANCELLED':\n",
        "                      print(f\"{ee_tif_filename}:{ee_task_status['error_message']}\")\n",
        "                      try: remove(ee_temp_dir)\n",
        "                      except: pass\n",
        "                      break\n",
        "                  sleep(1)\n",
        "              # Copy the raster to intended directory and remove the temporary raster\n",
        "              while not exists(ee_temp_dir):\n",
        "                sleep(1)\n",
        "              copyfile(ee_temp_dir, ee_tif_dir)\n",
        "              remove(ee_temp_dir)\n",
        "            # Update Earth Engine download progress\n",
        "            ee_progress_index += 1\n",
        "            ee_progress_label.value = f\"Earth Engine download progress: {ee_progress_index}/{len(ee_raster_list)}\"\n",
        "\n",
        "# Check Earth Engine tasks here: https://code.earthengine.google.com/tasks"
      ]
    },
    {
      "cell_type": "markdown",
      "metadata": {
        "id": "XIBbo-gsS3nD"
      },
      "source": [
        "# GLAD LCLUC"
      ]
    },
    {
      "cell_type": "code",
      "execution_count": null,
      "metadata": {
        "id": "W90YInS-S5I5"
      },
      "outputs": [],
      "source": [
        "# LCLUC contains several land cover and land use types, each with continuous metrics.\n",
        "# This splits them into categories for better modelling, based on the legend:\n",
        "# https://glad.umd.edu/sites/default/files/legend_0.xlsx\n",
        "# Should do before resampling.\n",
        "\n",
        "lcluc_dict = {\n",
        "    'terra_vegetation_cover_percent': (0, 24),\n",
        "    'terra_stable_tree_m': (25, 48),\n",
        "    'wetland_vegetation_cover_percent': (100, 124),\n",
        "    'wetland_stable_tree_m': (125, 148),\n",
        "    'open_surface_water_percent_of_year': (200, 207),\n",
        "    'snow_ice': (241, 241),\n",
        "    'cropland': (244, 244),\n",
        "    'built_up': (250, 250),\n",
        "    'ocean': (254, 254),\n",
        "}\n",
        "\n",
        "for lcluc_raster in os.listdir(ee_dir):\n",
        "  if 'LCLUC' in lcluc_raster:\n",
        "    lcluc_path = join(ee_dir, lcluc_raster)\n",
        "    luluc_array = gdal.Open(lcluc_path).ReadAsArray()\n",
        "    for key, (lower, upper) in lcluc_dict.items():\n",
        "        split_luluc_filename = f\"{lcluc_raster[:-4]}_{key}.tif\"\n",
        "        split_luluc_filename_binary = f\"{lcluc_raster[:-4]}_{key}_binary.tif\"\n",
        "        split_luluc_dir = join(glad_lcluc_dir, split_luluc_filename)\n",
        "        split_luluc_dir_binary = join(glad_lcluc_dir, split_luluc_filename_binary)\n",
        "        if not exists(split_luluc_dir) and not exists(split_luluc_dir_binary):\n",
        "          split_luluc_mask = np.logical_and(luluc_array >= lower, luluc_array <= upper)\n",
        "          split_luluc_array = np.where(split_luluc_mask, luluc_array, 0) # outside the range set to 0\n",
        "          non_zero_percentage = np.count_nonzero(split_luluc_array) / split_luluc_array.size * 100\n",
        "          if non_zero_percentage >= 0.1:\n",
        "            # Check if there's only one unique non-zero value, and convert to a 1-0 binary raster if true\n",
        "            unique_non_zero_values = np.unique(split_luluc_array[split_luluc_array > 0])\n",
        "            if len(unique_non_zero_values) == 1:\n",
        "                split_luluc_array = np.where(split_luluc_array > 0, 1, 0)\n",
        "                split_luluc_dir = split_luluc_dir_binary\n",
        "            export_array_as_tif(split_luluc_array, split_luluc_dir, template=lcluc_path)"
      ]
    },
    {
      "cell_type": "markdown",
      "metadata": {
        "id": "5-UOVsvRuHNS"
      },
      "source": [
        "# Resample EE rasters"
      ]
    },
    {
      "cell_type": "code",
      "execution_count": null,
      "metadata": {
        "colab": {
          "background_save": true
        },
        "id": "A5yEcU40E8eD",
        "outputId": "d03057b3-4e28-4229-f3c2-fa34982b0f7c"
      },
      "outputs": [
        {
          "name": "stdout",
          "output_type": "stream",
          "text": [
            "selected_original_rasters = {\n",
            "\"tmf_AnnualChanges_Dec1990.tif\": 'categorical',\n",
            "\"tmf_AnnualChanges_Dec1991.tif\": 'categorical',\n",
            "\"tmf_AnnualChanges_Dec1992.tif\": 'categorical',\n",
            "\"tmf_AnnualChanges_Dec1993.tif\": 'categorical',\n",
            "\"tmf_AnnualChanges_Dec1994.tif\": 'categorical',\n",
            "\"tmf_AnnualChanges_Dec1995.tif\": 'categorical',\n",
            "\"tmf_AnnualChanges_Dec1996.tif\": 'categorical',\n",
            "\"tmf_AnnualChanges_Dec1997.tif\": 'categorical',\n",
            "\"tmf_AnnualChanges_Dec1998.tif\": 'categorical',\n",
            "\"tmf_AnnualChanges_Dec1999.tif\": 'categorical',\n",
            "\"tmf_AnnualChanges_Dec2000.tif\": 'categorical',\n",
            "\"tmf_AnnualChanges_Dec2001.tif\": 'categorical',\n",
            "\"tmf_AnnualChanges_Dec2002.tif\": 'categorical',\n",
            "\"tmf_AnnualChanges_Dec2003.tif\": 'categorical',\n",
            "\"tmf_AnnualChanges_Dec2004.tif\": 'categorical',\n",
            "\"tmf_AnnualChanges_Dec2005.tif\": 'categorical',\n",
            "\"tmf_AnnualChanges_Dec2006.tif\": 'categorical',\n",
            "\"tmf_AnnualChanges_Dec2007.tif\": 'categorical',\n",
            "\"tmf_AnnualChanges_Dec2008.tif\": 'categorical',\n",
            "\"tmf_AnnualChanges_Dec2009.tif\": 'categorical',\n",
            "\"tmf_AnnualChanges_Dec2010.tif\": 'categorical',\n",
            "\"tmf_AnnualChanges_Dec2011.tif\": 'categorical',\n",
            "\"tmf_AnnualChanges_Dec2012.tif\": 'categorical',\n",
            "\"tmf_AnnualChanges_Dec2013.tif\": 'categorical',\n",
            "\"tmf_AnnualChanges_Dec2014.tif\": 'categorical',\n",
            "\"tmf_AnnualChanges_Dec2015.tif\": 'categorical',\n",
            "\"tmf_AnnualChanges_Dec2016.tif\": 'categorical',\n",
            "\"tmf_AnnualChanges_Dec2017.tif\": 'categorical',\n",
            "\"tmf_AnnualChanges_Dec2018.tif\": 'categorical',\n",
            "\"tmf_AnnualChanges_Dec2019.tif\": 'categorical',\n",
            "\"tmf_AnnualChanges_Dec2020.tif\": 'categorical',\n",
            "\"tmf_AnnualChanges_Dec2021.tif\": 'categorical',\n",
            "\"tmf_AnnualChanges_Dec2022.tif\": 'categorical',\n",
            "\"tmf_AnnualChanges_Dec2023.tif\": 'categorical',\n",
            "\"tmf_AnnualDisruptionObs2023_y2023.tif\": 'categorical',\n",
            "\"tmf_Ndisturb_C2_1982_2022_y1982.tif\": 'categorical',\n",
            "\"tmf_Ndisturb_C2_1982_2022_y1983.tif\": 'categorical',\n",
            "\"tmf_Ndisturb_C2_1982_2022_y1984.tif\": 'categorical',\n",
            "\"tmf_Ndisturb_C2_1982_2022_y1985.tif\": 'categorical',\n",
            "\"tmf_Ndisturb_C2_1982_2022_y1986.tif\": 'categorical',\n",
            "\"tmf_Ndisturb_C2_1982_2022_y1987.tif\": 'categorical',\n",
            "\"tmf_Ndisturb_C2_1982_2022_y1988.tif\": 'categorical',\n",
            "\"tmf_Ndisturb_C2_1982_2022_y1989.tif\": 'categorical',\n",
            "\"tmf_Ndisturb_C2_1982_2022_y1990.tif\": 'categorical',\n",
            "\"tmf_Ndisturb_C2_1982_2022_y1991.tif\": 'categorical',\n",
            "\"tmf_Ndisturb_C2_1982_2022_y1992.tif\": 'categorical',\n",
            "\"tmf_Ndisturb_C2_1982_2022_y1993.tif\": 'categorical',\n",
            "\"tmf_Ndisturb_C2_1982_2022_y1994.tif\": 'categorical',\n",
            "\"tmf_Ndisturb_C2_1982_2022_y1995.tif\": 'categorical',\n",
            "\"tmf_Ndisturb_C2_1982_2022_y1996.tif\": 'categorical',\n",
            "\"tmf_Ndisturb_C2_1982_2022_y1997.tif\": 'categorical',\n",
            "\"tmf_Ndisturb_C2_1982_2022_y1998.tif\": 'categorical',\n",
            "\"tmf_Ndisturb_C2_1982_2022_y1999.tif\": 'categorical',\n",
            "\"tmf_Ndisturb_C2_1982_2022_y2000.tif\": 'categorical',\n",
            "\"tmf_Ndisturb_C2_1982_2022_y2001.tif\": 'categorical',\n",
            "\"tmf_Ndisturb_C2_1982_2022_y2002.tif\": 'categorical',\n",
            "\"tmf_Ndisturb_C2_1982_2022_y2003.tif\": 'categorical',\n",
            "\"tmf_Ndisturb_C2_1982_2022_y2004.tif\": 'categorical',\n",
            "\"tmf_Ndisturb_C2_1982_2022_y2005.tif\": 'categorical',\n",
            "\"tmf_Ndisturb_C2_1982_2022_y2006.tif\": 'categorical',\n",
            "\"tmf_Ndisturb_C2_1982_2022_y2007.tif\": 'categorical',\n",
            "\"tmf_Ndisturb_C2_1982_2022_y2008.tif\": 'categorical',\n",
            "\"tmf_Ndisturb_C2_1982_2022_y2009.tif\": 'categorical',\n",
            "\"tmf_Ndisturb_C2_1982_2022_y2010.tif\": 'categorical',\n",
            "\"tmf_Ndisturb_C2_1982_2022_y2011.tif\": 'categorical',\n",
            "\"tmf_Ndisturb_C2_1982_2022_y2012.tif\": 'categorical',\n",
            "\"tmf_Ndisturb_C2_1982_2022_y2013.tif\": 'categorical',\n",
            "\"tmf_Ndisturb_C2_1982_2022_y2014.tif\": 'categorical',\n",
            "\"tmf_Ndisturb_C2_1982_2022_y2015.tif\": 'categorical',\n",
            "\"tmf_Ndisturb_C2_1982_2022_y2016.tif\": 'categorical',\n",
            "\"tmf_Ndisturb_C2_1982_2022_y2017.tif\": 'categorical',\n",
            "\"tmf_Ndisturb_C2_1982_2022_y2018.tif\": 'categorical',\n",
            "\"tmf_Ndisturb_C2_1982_2022_y2019.tif\": 'categorical',\n",
            "\"tmf_Ndisturb_C2_1982_2022_y2020.tif\": 'categorical',\n",
            "\"tmf_Ndisturb_C2_1982_2022_y2021.tif\": 'categorical',\n",
            "\"tmf_Ndisturb_C2_1982_2022_y2022.tif\": 'categorical',\n",
            "\"tmf_TransitionMap_MainClasses_TransitionMap_MainClasses.tif\": 'categorical',\n",
            "\"tmf_TransitionMap_Subtypes_TransitionMap_Subtypes.tif\": 'categorical',\n",
            "}\n"
          ]
        }
      ],
      "source": [
        "# Create dictionary of all tifs in Earth Engine and user upload directory\n",
        "resample_dict = {}\n",
        "for resample_raster in os.listdir(ee_dir):\n",
        "    resample_dict.update({f'{resample_raster}':\"'categorical'\"})\n",
        "for resample_raster in os.listdir(user_upload_dir):\n",
        "    resample_dict.update({f'{resample_raster}':\"'categorical'\"})\n",
        "for resample_raster in os.listdir(glad_lcluc_dir):\n",
        "    resample_dict.update({f'{resample_raster}':\"'continuous'\"})\n",
        "resample_dict = {key: value for key, value in sorted(resample_dict.items())}\n",
        "\n",
        "# Select rasters for resampling and verify data type (categorical or continuous)\n",
        "print(\"selected_original_rasters = {\")\n",
        "for key, value in resample_dict.items():\n",
        "    print(f'\"{key}\": {value},')\n",
        "print(\"}\")"
      ]
    },
    {
      "cell_type": "code",
      "execution_count": null,
      "metadata": {
        "colab": {
          "background_save": true
        },
        "id": "IfxPFqlxE0Ok"
      },
      "outputs": [],
      "source": [
        "selected_original_rasters = {\n",
        "\"tmf_AnnualChanges_Dec1990.tif\": 'categorical',\n",
        "\"tmf_AnnualChanges_Dec1991.tif\": 'categorical',\n",
        "\"tmf_AnnualChanges_Dec1992.tif\": 'categorical',\n",
        "\"tmf_AnnualChanges_Dec1993.tif\": 'categorical',\n",
        "\"tmf_AnnualChanges_Dec1994.tif\": 'categorical',\n",
        "\"tmf_AnnualChanges_Dec1995.tif\": 'categorical',\n",
        "\"tmf_AnnualChanges_Dec1996.tif\": 'categorical',\n",
        "\"tmf_AnnualChanges_Dec1997.tif\": 'categorical',\n",
        "\"tmf_AnnualChanges_Dec1998.tif\": 'categorical',\n",
        "\"tmf_AnnualChanges_Dec1999.tif\": 'categorical',\n",
        "\"tmf_AnnualChanges_Dec2000.tif\": 'categorical',\n",
        "\"tmf_AnnualChanges_Dec2001.tif\": 'categorical',\n",
        "\"tmf_AnnualChanges_Dec2002.tif\": 'categorical',\n",
        "\"tmf_AnnualChanges_Dec2003.tif\": 'categorical',\n",
        "\"tmf_AnnualChanges_Dec2004.tif\": 'categorical',\n",
        "\"tmf_AnnualChanges_Dec2005.tif\": 'categorical',\n",
        "\"tmf_AnnualChanges_Dec2006.tif\": 'categorical',\n",
        "\"tmf_AnnualChanges_Dec2007.tif\": 'categorical',\n",
        "\"tmf_AnnualChanges_Dec2008.tif\": 'categorical',\n",
        "\"tmf_AnnualChanges_Dec2009.tif\": 'categorical',\n",
        "\"tmf_AnnualChanges_Dec2010.tif\": 'categorical',\n",
        "\"tmf_AnnualChanges_Dec2011.tif\": 'categorical',\n",
        "\"tmf_AnnualChanges_Dec2012.tif\": 'categorical',\n",
        "\"tmf_AnnualChanges_Dec2013.tif\": 'categorical',\n",
        "\"tmf_AnnualChanges_Dec2014.tif\": 'categorical',\n",
        "\"tmf_AnnualChanges_Dec2015.tif\": 'categorical',\n",
        "\"tmf_AnnualChanges_Dec2016.tif\": 'categorical',\n",
        "\"tmf_AnnualChanges_Dec2017.tif\": 'categorical',\n",
        "\"tmf_AnnualChanges_Dec2018.tif\": 'categorical',\n",
        "\"tmf_AnnualChanges_Dec2019.tif\": 'categorical',\n",
        "\"tmf_AnnualChanges_Dec2020.tif\": 'categorical',\n",
        "\"tmf_AnnualChanges_Dec2021.tif\": 'categorical',\n",
        "\"tmf_AnnualChanges_Dec2022.tif\": 'categorical',\n",
        "\"tmf_AnnualChanges_Dec2023.tif\": 'categorical',\n",
        "\"tmf_AnnualDisruptionObs2023_y2023.tif\": 'categorical',\n",
        "\"tmf_Ndisturb_C2_1982_2022_y1982.tif\": 'categorical',\n",
        "\"tmf_Ndisturb_C2_1982_2022_y1983.tif\": 'categorical',\n",
        "\"tmf_Ndisturb_C2_1982_2022_y1984.tif\": 'categorical',\n",
        "\"tmf_Ndisturb_C2_1982_2022_y1985.tif\": 'categorical',\n",
        "\"tmf_Ndisturb_C2_1982_2022_y1986.tif\": 'categorical',\n",
        "\"tmf_Ndisturb_C2_1982_2022_y1987.tif\": 'categorical',\n",
        "\"tmf_Ndisturb_C2_1982_2022_y1988.tif\": 'categorical',\n",
        "\"tmf_Ndisturb_C2_1982_2022_y1989.tif\": 'categorical',\n",
        "\"tmf_Ndisturb_C2_1982_2022_y1990.tif\": 'categorical',\n",
        "\"tmf_Ndisturb_C2_1982_2022_y1991.tif\": 'categorical',\n",
        "\"tmf_Ndisturb_C2_1982_2022_y1992.tif\": 'categorical',\n",
        "\"tmf_Ndisturb_C2_1982_2022_y1993.tif\": 'categorical',\n",
        "\"tmf_Ndisturb_C2_1982_2022_y1994.tif\": 'categorical',\n",
        "\"tmf_Ndisturb_C2_1982_2022_y1995.tif\": 'categorical',\n",
        "\"tmf_Ndisturb_C2_1982_2022_y1996.tif\": 'categorical',\n",
        "\"tmf_Ndisturb_C2_1982_2022_y1997.tif\": 'categorical',\n",
        "\"tmf_Ndisturb_C2_1982_2022_y1998.tif\": 'categorical',\n",
        "\"tmf_Ndisturb_C2_1982_2022_y1999.tif\": 'categorical',\n",
        "\"tmf_Ndisturb_C2_1982_2022_y2000.tif\": 'categorical',\n",
        "\"tmf_Ndisturb_C2_1982_2022_y2001.tif\": 'categorical',\n",
        "\"tmf_Ndisturb_C2_1982_2022_y2002.tif\": 'categorical',\n",
        "\"tmf_Ndisturb_C2_1982_2022_y2003.tif\": 'categorical',\n",
        "\"tmf_Ndisturb_C2_1982_2022_y2004.tif\": 'categorical',\n",
        "\"tmf_Ndisturb_C2_1982_2022_y2005.tif\": 'categorical',\n",
        "\"tmf_Ndisturb_C2_1982_2022_y2006.tif\": 'categorical',\n",
        "\"tmf_Ndisturb_C2_1982_2022_y2007.tif\": 'categorical',\n",
        "\"tmf_Ndisturb_C2_1982_2022_y2008.tif\": 'categorical',\n",
        "\"tmf_Ndisturb_C2_1982_2022_y2009.tif\": 'categorical',\n",
        "\"tmf_Ndisturb_C2_1982_2022_y2010.tif\": 'categorical',\n",
        "\"tmf_Ndisturb_C2_1982_2022_y2011.tif\": 'categorical',\n",
        "\"tmf_Ndisturb_C2_1982_2022_y2012.tif\": 'categorical',\n",
        "\"tmf_Ndisturb_C2_1982_2022_y2013.tif\": 'categorical',\n",
        "\"tmf_Ndisturb_C2_1982_2022_y2014.tif\": 'categorical',\n",
        "\"tmf_Ndisturb_C2_1982_2022_y2015.tif\": 'categorical',\n",
        "\"tmf_Ndisturb_C2_1982_2022_y2016.tif\": 'categorical',\n",
        "\"tmf_Ndisturb_C2_1982_2022_y2017.tif\": 'categorical',\n",
        "\"tmf_Ndisturb_C2_1982_2022_y2018.tif\": 'categorical',\n",
        "\"tmf_Ndisturb_C2_1982_2022_y2019.tif\": 'categorical',\n",
        "\"tmf_Ndisturb_C2_1982_2022_y2020.tif\": 'categorical',\n",
        "\"tmf_Ndisturb_C2_1982_2022_y2021.tif\": 'categorical',\n",
        "\"tmf_Ndisturb_C2_1982_2022_y2022.tif\": 'categorical',\n",
        "\"tmf_TransitionMap_MainClasses_TransitionMap_MainClasses.tif\": 'categorical',\n",
        "\"tmf_TransitionMap_Subtypes_TransitionMap_Subtypes.tif\": 'categorical',\n",
        "}"
      ]
    },
    {
      "cell_type": "code",
      "execution_count": null,
      "metadata": {
        "id": "UEZwd6XYXqRk"
      },
      "outputs": [],
      "source": [
        "# Set resample algorithms for different raster types\n",
        "# See https://gdal.org/programs/gdalwarp.html\n",
        "categorical_alg = 'near'\n",
        "continuous_alg = 'bilinear'\n",
        "\n",
        "template = gdal.Open(template_dir)\n",
        "template_dimensions = template.GetGeoTransform()\n",
        "xres, yres = template_dimensions[1], -template_dimensions[5]\n",
        "xmin = template_dimensions[0]\n",
        "ymin = template_dimensions[3] - template.RasterYSize * yres\n",
        "xmax = xmin + template.RasterXSize * xres\n",
        "ymax = template_dimensions[3]\n",
        "\n",
        "# Resample progress\n",
        "resample_progress_index = 0\n",
        "resample_progress_label = widgets.Label(f\"Resample progress: {resample_progress_index}/{len(selected_original_rasters.items())}\")\n",
        "display(resample_progress_label)\n",
        "\n",
        "# Iterate over selected rasters\n",
        "for original_raster_name, data_type in selected_original_rasters.items():\n",
        "  resampled_raster_dir = join(resampled_dir, original_raster_name)\n",
        "  if not exists(resampled_raster_dir):\n",
        "    original_raster_dir = join(ee_dir, original_raster_name)\n",
        "    if not exists(original_raster_dir): original_raster_dir = join(user_upload_dir, original_raster_name)\n",
        "    if not exists(original_raster_dir): original_raster_dir = join(glad_lcluc_dir, original_raster_name)\n",
        "    # Set resample type\n",
        "    if data_type == 'categorical': resample_alg = categorical_alg\n",
        "    if data_type == 'continuous': resample_alg = continuous_alg\n",
        "    src = gdal.Warp(\n",
        "        resampled_raster_dir,\n",
        "        original_raster_dir,\n",
        "        xRes=xres, yRes=yres,\n",
        "        outputBounds=(xmin, ymin, xmax, ymax),\n",
        "        resampleAlg=resample_alg,\n",
        "        outputType=gdalconst.GDT_Float32)\n",
        "    # Compress and close\n",
        "    driver = gdal.GetDriverByName(\"GTiff\")\n",
        "    src = driver.CreateCopy(resampled_raster_dir, src, 0, options=[\"COMPRESS=DEFLATE\",\"PREDICTOR=2\",\"ZLEVEL=9\"])\n",
        "    src = None\n",
        "  # Update resample progress\n",
        "  resample_progress_index += 1\n",
        "  resample_progress_label.value = f\"Resample progress: {resample_progress_index}/{len(selected_original_rasters.items())}\""
      ]
    },
    {
      "cell_type": "code",
      "execution_count": null,
      "metadata": {
        "colab": {
          "background_save": true
        },
        "id": "0D35niESIwR9",
        "outputId": "c06f2055-0eec-4f24-c35e-2848cdb7f385"
      },
      "outputs": [
        {
          "name": "stdout",
          "output_type": "stream",
          "text": [
            "Dictionary for optimal rounding values:\n"
          ]
        }
      ],
      "source": [
        "# Determine continous predictor precision\n",
        "\n",
        "override_max_unique_values = False\n",
        "max_unique_values = 5000 # Should be >=10\n",
        "\n",
        "if override_max_unique_values == False:\n",
        "  dem_base_path = join(areas_dir, \"base_dem.tif\")\n",
        "  dem_base_array = gdal.Open(dem_base_path).ReadAsArray()\n",
        "  max_unique_values = int(np.ptp(dem_base_array)) # Precision based on elevation variance\n",
        "resampled_precision_dict = {}\n",
        "\n",
        "for resampled_predictor, resample_type in selected_original_rasters.items():\n",
        "  if resample_type == 'continuous':\n",
        "    resampled_predictor_path = join(resampled_dir, resampled_predictor)\n",
        "    print(f\"Reading {resampled_predictor}...\")\n",
        "    # Read raster as array\n",
        "    resampled_predictor_array = gdal.Open(resampled_predictor_path).ReadAsArray()\n",
        "    # Convert 'nodata' values to nan\n",
        "    resampled_predictor_array[resampled_predictor_array == nodatavalue] = np.nan\n",
        "    resampled_predictor_array_masked = np.ma.array(resampled_predictor_array, mask=np.isnan(resampled_predictor_array))\n",
        "    # Count unique values in raster\n",
        "    unique_values = len(np.unique(resampled_predictor_array_masked))\n",
        "    print(f\"There are {unique_values} unique values in {resampled_predictor}\")\n",
        "    # Generate histogram from 100,000 random points\n",
        "    random_selection = np.random.choice(resampled_predictor_array_masked.ravel(), size = 100_000, replace = False)\n",
        "    _ = plt.hist(random_selection, bins='auto')  # arguments are passed to np.histogram\n",
        "    plt.title(f\"{resampled_predictor}\")\n",
        "    plt.show()\n",
        "    # Remove 0 values for log10\n",
        "    resampled_predictor_array_masked[resampled_predictor_array_masked == 0] = np.nan\n",
        "    resampled_predictor_array_masked = np.ma.array(resampled_predictor_array, mask=np.isnan(resampled_predictor_array))\n",
        "    # Create log10 array for determining positions for rounding\n",
        "    array_log10 = np.log10(abs(resampled_predictor_array_masked))\n",
        "    place_value_decimal = int(abs(np.min(array_log10)))\n",
        "    place_value_integer = int(0 - np.max(array_log10))\n",
        "    # Iterate down precision levels to determine optimal number of unique values\n",
        "    min_starting_precision = len(str(max_unique_values))\n",
        "    for precision in reversed(range(place_value_integer, max(min_starting_precision, place_value_decimal +1))):\n",
        "      rounded_array = np.round(resampled_predictor_array, decimals=precision)\n",
        "      round_unique_values = len(np.unique(rounded_array))\n",
        "      optimal_precision = None\n",
        "      if round_unique_values <= max_unique_values:\n",
        "        optimal_precision = precision\n",
        "        print(f\"The optimal precison for {resampled_predictor} is {optimal_precision}, with {round_unique_values} unique values.\")\n",
        "        resampled_precision_dict.update({f'{resampled_predictor}':f'{optimal_precision}'})\n",
        "        break\n",
        "    if optimal_precision == None: print(\"There's a problem with setting precision.\")\n",
        "    print(\"___________________\\n\")\n",
        "\n",
        "print(\"Dictionary for optimal rounding values:\")\n",
        "resampled_precision_dict\n",
        "\n",
        "precision_dict_csv_path = join(resampled_dir, 'rounding_dictionary.csv')\n",
        "# Save rounding dictionary to CSV\n",
        "with open(precision_dict_csv_path, 'w', newline='') as precision_dict_csv:\n",
        "    writer = csv.writer(precision_dict_csv)\n",
        "    writer.writerow(resampled_precision_dict.keys())\n",
        "    writer.writerow(resampled_precision_dict.values())"
      ]
    },
    {
      "cell_type": "code",
      "execution_count": null,
      "metadata": {
        "colab": {
          "background_save": true
        },
        "id": "1UjcjQ52NoT7",
        "outputId": "79a41e1e-ce8d-4827-b44c-f592006525d3"
      },
      "outputs": [
        {
          "name": "stdout",
          "output_type": "stream",
          "text": [
            "topo_precision_dict = {\n",
            "}\n"
          ]
        }
      ],
      "source": [
        "# Open rounding dictionary and verify\n",
        "with open(precision_dict_csv_path, 'r') as file:\n",
        "    keys, values = list(csv.reader(file))\n",
        "    topo_precision_dict = dict(zip(keys, values))\n",
        "\n",
        "# Verify precision and correct if necessary\n",
        "print(\"topo_precision_dict = {\")\n",
        "for key, value in topo_precision_dict.items():\n",
        "    print(f'\"{key}\": {value},')\n",
        "print(\"}\")"
      ]
    },
    {
      "cell_type": "code",
      "execution_count": null,
      "metadata": {
        "colab": {
          "background_save": true
        },
        "id": "w2kquWfYOeS-"
      },
      "outputs": [],
      "source": [
        "topo_precision_dict = {\n",
        "\"agbd_2022.tif\": 0,\n",
        "\"agbd_diff_disturbance_1990_2022.tif\": 0,\n",
        "\"agbd_diff_disturbance_before_1990.tif\": 0,\n",
        "}"
      ]
    },
    {
      "cell_type": "code",
      "execution_count": null,
      "metadata": {
        "id": "bn-nfKEPOi9d"
      },
      "outputs": [],
      "source": [
        "# Set smoothing kernel\n",
        "kernel = Gaussian2DKernel(x_stddev=1, y_stddev=1)\n",
        "\n",
        "# Continuous progress\n",
        "continuous_progress_index = 0\n",
        "continuous_progress_label = widgets.Label(f\"Continuous progress: {continuous_progress_index}/{len(topo_precision_dict.items())}\")\n",
        "display(continuous_progress_label)\n",
        "\n",
        "# Iterate over selected continuous rasters\n",
        "for continuous, precision in topo_precision_dict.items():\n",
        "  cont_raster_resampled_path = join(resampled_dir, continuous)\n",
        "  cont_raster_resampled_array = gdal.Open(cont_raster_resampled_path).ReadAsArray()\n",
        "  # Convert nodata values to 0\n",
        "  cont_raster_resampled_array[cont_raster_resampled_array == nodatavalue] = 0\n",
        "  # Set path and check if exists\n",
        "  cont_raster_unsmoothed_filename = f\"{continuous[:-4]}_unsmooth.tif\"\n",
        "  cont_raster_unsmoothed_path = join(continuous_final_dir, cont_raster_unsmoothed_filename)\n",
        "  if not exists(cont_raster_unsmoothed_path):\n",
        "    # Round and export unsmoothed continuous raster\n",
        "    cont_raster_unsmoothed_rounded = np.round(cont_raster_resampled_array, decimals=int(precision))\n",
        "    export_array_as_tif(cont_raster_unsmoothed_rounded, cont_raster_unsmoothed_path)\n",
        "  # Smooth using 2D spatial convolution\n",
        "  cont_raster_smoothed_filename = f\"{continuous[:-4]}_smooth.tif\"\n",
        "  cont_raster_smoothed_path = join(continuous_final_dir, cont_raster_smoothed_filename)\n",
        "  if not exists(cont_raster_smoothed_path):\n",
        "    cont_raster_smoothed = convolve(cont_raster_resampled_array, kernel, boundary='extend')\n",
        "    # Round and export smoothed continuous raster\n",
        "    cont_raster_smoothed_rounded = np.round(cont_raster_smoothed, decimals=int(precision))\n",
        "    export_array_as_tif(cont_raster_smoothed_rounded, cont_raster_smoothed_path)\n",
        "  # Update continuous progress\n",
        "  continuous_progress_index += 1\n",
        "  continuous_progress_label.value = f\"Continuous progress: {continuous_progress_index}/{len(topo_precision_dict.items())}\""
      ]
    },
    {
      "cell_type": "markdown",
      "metadata": {
        "id": "EhukvPP02gBm"
      },
      "source": [
        "# TMF binary predictors"
      ]
    },
    {
      "cell_type": "code",
      "execution_count": null,
      "metadata": {
        "id": "MdGYp7HAXkD4",
        "colab": {
          "base_uri": "https://localhost:8080/",
          "height": 67,
          "referenced_widgets": [
            "f637cb7a6f6f4a80babe555208858f33",
            "7ac9b443d3dd4a8fb16fc012a09b4caf",
            "da2e6cdd8b574a27ade398634aae7fd1"
          ]
        },
        "outputId": "ae9ea5e0-ed26-4629-9f2d-ef39e8d70fb8"
      },
      "outputs": [
        {
          "output_type": "stream",
          "name": "stdout",
          "text": [
            "Forest binary sieve size (>0.5 ha) is 6 pixels.\n"
          ]
        },
        {
          "output_type": "display_data",
          "data": {
            "text/plain": [
              "Label(value='Binary progress: 0/68')"
            ],
            "application/vnd.jupyter.widget-view+json": {
              "version_major": 2,
              "version_minor": 0,
              "model_id": "f637cb7a6f6f4a80babe555208858f33"
            }
          },
          "metadata": {}
        }
      ],
      "source": [
        "# Check TMF data users guide for classification. https://forobs.jrc.ec.europa.eu/static/tmf/TMF_DataUsersGuide.pdf\n",
        "\n",
        "cell_size_x = gdal.Open(join(areas_dir, 'cell_size_x.tif')).ReadAsArray()\n",
        "cell_size_y = gdal.Open(join(areas_dir, 'cell_size_y.tif')).ReadAsArray()\n",
        "cell_size_ha = np.mean(cell_size_x) * np.mean(cell_size_y) / 10_000\n",
        "sieve_size = int(np.ceil(0.5/cell_size_ha)) # Removes all forest patches smaller than 0.5 ha\n",
        "print(f\"Forest binary sieve size (>0.5 ha) is {sieve_size} pixels.\")\n",
        "\n",
        "# Generate list of valid TMF rasters to convert to binary\n",
        "binary_list = []\n",
        "for resampled_raster in os.listdir(resampled_dir):\n",
        "  # Verify these are in the filenames\n",
        "  if 'DisruptionObs' in resampled_raster or 'AnnualChanges' in resampled_raster or 'Ndisturb' in resampled_raster:\n",
        "    # Verify this is the position of the year in the filename\n",
        "    year = resampled_raster[-8:-4]  # Data prior to 1990 is poor\n",
        "    if int(year) >= 1990: binary_list.append(resampled_raster)\n",
        "\n",
        "# Binary progress\n",
        "binary_progress_index = 0\n",
        "binary_progress_label = widgets.Label(f\"Binary progress: {binary_progress_index}/{len(binary_list)}\")\n",
        "display(binary_progress_label)\n",
        "\n",
        "for resampled_raster in binary_list:\n",
        "  year = resampled_raster[-8:-4]\n",
        "  # Forest binary\n",
        "  if 'AnnualChanges' in resampled_raster:\n",
        "    forest_binary_path = join(binary_dir, f\"forest_binary_{year}.tif\")\n",
        "    if not exists(forest_binary_path):\n",
        "      ac_raster_path = join(resampled_dir, resampled_raster)\n",
        "      ac_array = gdal.Open(ac_raster_path).ReadAsArray()\n",
        "      # Set classes 1 & 2 as 1, all else as 0\n",
        "      forest_binary_array = np.where((ac_array == 1) | (ac_array == 2), 1, 0)\n",
        "\n",
        "      # Sieve to 0.5 ha, using 8-connectedness (3, 3)\n",
        "      fb_array_labelled, fb_array_features = label(forest_binary_array, structure=np.ones((3, 3)))\n",
        "      # Determine the size of each patch\n",
        "      fb_array_sizes = ndi_sum(forest_binary_array, fb_array_labelled, range(fb_array_features + 1))\n",
        "      # Create a mask to remove patches smaller than the threshold\n",
        "      fb_array_mask_sizes = fb_array_sizes >= sieve_size\n",
        "      fb_array_mask_sizes[0] = 0 # Ensure non-forest (0) is excluded\n",
        "      fb_array_mask = fb_array_mask_sizes[fb_array_labelled]\n",
        "      # Apply the mask to the forest binary array and export\n",
        "      fb_array_sieved = forest_binary_array * fb_array_mask\n",
        "      export_array_as_tif(fb_array_sieved, forest_binary_path)\n",
        "\n",
        "  # Disturbance binary\n",
        "  if 'DisruptionObs' in resampled_raster or 'Ndisturb' in resampled_raster:\n",
        "    disturbance_binary_path = join(binary_dir, f\"disturbance_binary_{year}.tif\")\n",
        "    if not exists(disturbance_binary_path):\n",
        "      ac_raster_path = glob.glob(f\"{resampled_dir}/*AnnualChanges*{year}*\")\n",
        "      ac_array = gdal.Open(ac_raster_path[0]).ReadAsArray()\n",
        "      do_raster_path = join(resampled_dir, resampled_raster)\n",
        "      do_array = gdal.Open(do_raster_path).ReadAsArray()\n",
        "      # Set all disruption events to '1' if they're not classed as undisturbed forest or water in AnnualChanges\n",
        "      disturbance_binary_array = np.where((do_array >= 1) & ((ac_array != 1) & (ac_array != 5)), 1, 0)\n",
        "      export_array_as_tif(disturbance_binary_array, disturbance_binary_path)\n",
        "\n",
        "  # Update binary progress\n",
        "  binary_progress_index += 1\n",
        "  binary_progress_label.value = f\"Binary progress: {binary_progress_index}/{len(binary_list)}\""
      ]
    },
    {
      "cell_type": "code",
      "execution_count": null,
      "metadata": {
        "id": "yHmFlgGylGFL"
      },
      "outputs": [],
      "source": [
        "# Extract mangrove binary (optional)\n",
        "extract_mangrove_binary = True\n",
        "\n",
        "if extract_mangrove_binary:\n",
        "  mangrove_binary_path = join(binary_dir, \"mangrove_binary.tif\")\n",
        "  if not exists(mangrove_binary_path):\n",
        "    # Open subtypes array\n",
        "    for resampled_raster in os.listdir(resampled_dir):\n",
        "      if 'Subtypes' in resampled_raster:\n",
        "        subtypes_raster_path = join(resampled_dir, resampled_raster)\n",
        "        subtypes_raster_array = gdal.Open(subtypes_raster_path).ReadAsArray()\n",
        "\n",
        "    # Open oldest available forest binary raster for full mangrove extent (1990)\n",
        "    forest_binary_1990_path = join(binary_dir, \"forest_binary_1990.tif\")\n",
        "    forest_binary_1990_array = gdal.Open(forest_binary_1990_path).ReadAsArray()\n",
        "\n",
        "    mangrove_binary_array = np.logical_and(forest_binary_1990_array == 1,\n",
        "        np.logical_or(subtypes_raster_array == 12,(subtypes_raster_array >= 61) & (subtypes_raster_array <= 69))\n",
        "    )\n",
        "\n",
        "    # Calculate the percentage of forest pixels that are mangrove\n",
        "    forest_1990_pixels = np.sum(forest_binary_1990_array)\n",
        "    mangrove_pixels = np.sum(mangrove_binary_array)\n",
        "    if mangrove_pixels > 0:\n",
        "      mangrove_percent = (mangrove_pixels / forest_1990_pixels) * 100\n",
        "      export_array_as_tif(mangrove_binary_array, mangrove_binary_path)\n",
        "      print(f\"Number of mangrove pixels: {mangrove_pixels}\")\n",
        "      print(f\"Percentage of 1990 forest pixels that are mangrove: {mangrove_percent:.2f}%\")\n",
        "    else: print(\"There are no mangrove pixels in the template area.\")\n",
        "  else: print(\"A mangrove binary raster already exists. Delete it to generate a new one.\")"
      ]
    },
    {
      "cell_type": "markdown",
      "metadata": {
        "id": "XJnV0l75FpPN"
      },
      "source": [
        "# LU polygon binary predictors"
      ]
    },
    {
      "cell_type": "code",
      "execution_count": null,
      "metadata": {
        "id": "vigY_9XqXhCQ",
        "colab": {
          "base_uri": "https://localhost:8080/"
        },
        "outputId": "8a6d25b0-c3d5-4b87-e4dd-6aaff6abdff3"
      },
      "outputs": [
        {
          "output_type": "stream",
          "name": "stdout",
          "text": [
            "lu_polygons = [\n",
            "'peninsular_malaysia.gpkg',\n",
            "'lu_yong.gpkg',\n",
            "'lu_yong_lipis.gpkg',\n",
            "'lu_berkelah_jerantut.gpkg',\n",
            "'lu_tekai_tembeling.gpkg',\n",
            "'lu_ais.gpkg',\n",
            "'lu_pa_taman_negara_krau.gpkg',\n",
            "'lu_berekelah_kuantan.gpkg',\n",
            "'lu_tekam.gpkg',\n",
            "'lu_berkelah_temerloh.gpkg',\n",
            "'lu_remen_chereh.gpkg',\n",
            "]\n"
          ]
        }
      ],
      "source": [
        "# Selected 'land use' polygons.\n",
        "# Creating a 'complete recovery' or 'complete restoration' scenario requires ONE of these as a proxy.\n",
        "# This can be multiple combined PAs / polygons that have no or minimal history of human disturbance.\n",
        "\n",
        "polygons_to_exclude = ['template.gpkg', 'project_area.gpkg', 'project_area_buffered_bbox.gpkg', 'gedi_area.gpkg', 'project_area_inverse.gpkg', 'gedi_area_inverse.gpkg']\n",
        "print(\"lu_polygons = [\")\n",
        "for polygon in os.listdir(polygons_dir):\n",
        "  if polygon not in polygons_to_exclude:\n",
        "    print(f\"'{polygon}',\")\n",
        "print(\"]\")"
      ]
    },
    {
      "cell_type": "code",
      "execution_count": null,
      "metadata": {
        "id": "w62_C-Vt0Emj",
        "colab": {
          "base_uri": "https://localhost:8080/"
        },
        "outputId": "fadbd7e4-e7ac-419f-8bb7-b5165c111b0e"
      },
      "outputs": [
        {
          "output_type": "stream",
          "name": "stdout",
          "text": [
            "peninsular_malaysia_binary.tif has been created.\n",
            "lu_yong_binary.tif has been created.\n",
            "lu_yong_lipis_binary.tif has been created.\n",
            "lu_berkelah_jerantut_binary.tif has been created.\n",
            "lu_tekai_tembeling_binary.tif has been created.\n",
            "lu_ais_binary.tif has been created.\n",
            "lu_pa_taman_negara_krau_binary.tif has been created.\n",
            "lu_berekelah_kuantan_binary.tif has been created.\n",
            "lu_tekam_binary.tif has been created.\n",
            "lu_berkelah_temerloh_binary.tif has been created.\n",
            "lu_remen_chereh_binary.tif has been created.\n"
          ]
        }
      ],
      "source": [
        "lu_polygons = [\n",
        "'peninsular_malaysia.gpkg',\n",
        "'lu_yong.gpkg',\n",
        "'lu_yong_lipis.gpkg',\n",
        "'lu_berkelah_jerantut.gpkg',\n",
        "'lu_tekai_tembeling.gpkg',\n",
        "'lu_ais.gpkg',\n",
        "'lu_pa_taman_negara_krau.gpkg',\n",
        "'lu_berekelah_kuantan.gpkg',\n",
        "'lu_tekam.gpkg',\n",
        "'lu_berkelah_temerloh.gpkg',\n",
        "'lu_remen_chereh.gpkg',\n",
        "]\n",
        "\n",
        "# Convert all template values to 'nodata' in preparation\n",
        "template_tif = gdal.Open(template_dir)\n",
        "template_mask_array = gdal.Open(template_dir).ReadAsArray()\n",
        "template_mask_array[template_mask_array != None] = 0\n",
        "\n",
        "for lu_polygon in lu_polygons:\n",
        "  lu_binary_name = f\"{lu_polygon[:-5]}_binary.tif\"\n",
        "  lu_binary_path = join(binary_dir, lu_binary_name)\n",
        "  if not exists(lu_binary_path):\n",
        "    lu_polygon_path = join(polygons_dir, lu_polygon)\n",
        "    export_array_as_tif(template_mask_array, lu_binary_path)\n",
        "    # Burn the value '1' where it overlaps with the project area polygon\n",
        "    burn_polygon_to_raster(lu_binary_path, lu_polygon_path, fixed=True, fixed_value=1, all_touched=False)\n",
        "    print(f\"{lu_binary_name} has been created.\")\n",
        "  else: print(f\"{lu_binary_name} already exists.\")"
      ]
    },
    {
      "cell_type": "markdown",
      "metadata": {
        "id": "yKSLJnR4SE5H"
      },
      "source": [
        "# Binary masks"
      ]
    },
    {
      "cell_type": "code",
      "execution_count": null,
      "metadata": {
        "id": "r3rRcG0_ZOdd",
        "colab": {
          "base_uri": "https://localhost:8080/"
        },
        "outputId": "0123abd7-1725-42fb-e9f0-7ec7ef09becf"
      },
      "outputs": [
        {
          "output_type": "stream",
          "name": "stdout",
          "text": [
            "mask_types = [\n",
            "'forest',\n",
            "'disturbance',\n",
            "]\n"
          ]
        }
      ],
      "source": [
        "# Generate masks for later scenario predictions, e.g. so outputs only show forest.\n",
        "mask_type_list = []\n",
        "for binary in os.listdir(binary_dir):\n",
        "    mask_type = binary.split('_')[0]\n",
        "    if mask_type not in mask_type_list:\n",
        "        mask_type_list.append(mask_type)\n",
        "\n",
        "print(\"mask_types = [\")\n",
        "for mask_type in mask_type_list:\n",
        "    print(f\"'{mask_type}',\")\n",
        "print(\"]\")"
      ]
    },
    {
      "cell_type": "code",
      "execution_count": null,
      "metadata": {
        "id": "9F0klPciSEHh",
        "colab": {
          "base_uri": "https://localhost:8080/",
          "height": 653,
          "referenced_widgets": [
            "b939a4df0d4742f7a6ee230cac2d0546",
            "37baf121db1642ae818dd541987eab67",
            "9a2c674f57b94286b1e5f7778cb5375c"
          ]
        },
        "outputId": "27427155-e679-4794-b2c2-f2ccd8c33c2a"
      },
      "outputs": [
        {
          "output_type": "display_data",
          "data": {
            "text/plain": [
              "Label(value='Binary progress: 0/34')"
            ],
            "application/vnd.jupyter.widget-view+json": {
              "version_major": 2,
              "version_minor": 0,
              "model_id": "b939a4df0d4742f7a6ee230cac2d0546"
            }
          },
          "metadata": {}
        },
        {
          "output_type": "stream",
          "name": "stdout",
          "text": [
            "A mask raster has been created: /gdrive/Shareddrives/masfi/6_scenarios/scenario_masks/mask_forest_1990.tif\n",
            "A mask raster has been created: /gdrive/Shareddrives/masfi/6_scenarios/scenario_masks/mask_forest_1991.tif\n",
            "A mask raster has been created: /gdrive/Shareddrives/masfi/6_scenarios/scenario_masks/mask_forest_1992.tif\n",
            "A mask raster has been created: /gdrive/Shareddrives/masfi/6_scenarios/scenario_masks/mask_forest_1993.tif\n",
            "A mask raster has been created: /gdrive/Shareddrives/masfi/6_scenarios/scenario_masks/mask_forest_1994.tif\n",
            "A mask raster has been created: /gdrive/Shareddrives/masfi/6_scenarios/scenario_masks/mask_forest_1995.tif\n",
            "A mask raster has been created: /gdrive/Shareddrives/masfi/6_scenarios/scenario_masks/mask_forest_1996.tif\n",
            "A mask raster has been created: /gdrive/Shareddrives/masfi/6_scenarios/scenario_masks/mask_forest_1997.tif\n",
            "A mask raster has been created: /gdrive/Shareddrives/masfi/6_scenarios/scenario_masks/mask_forest_1998.tif\n",
            "A mask raster has been created: /gdrive/Shareddrives/masfi/6_scenarios/scenario_masks/mask_forest_1999.tif\n",
            "A mask raster has been created: /gdrive/Shareddrives/masfi/6_scenarios/scenario_masks/mask_forest_2000.tif\n",
            "A mask raster has been created: /gdrive/Shareddrives/masfi/6_scenarios/scenario_masks/mask_forest_2001.tif\n",
            "A mask raster has been created: /gdrive/Shareddrives/masfi/6_scenarios/scenario_masks/mask_forest_2002.tif\n",
            "A mask raster has been created: /gdrive/Shareddrives/masfi/6_scenarios/scenario_masks/mask_forest_2003.tif\n",
            "A mask raster has been created: /gdrive/Shareddrives/masfi/6_scenarios/scenario_masks/mask_forest_2004.tif\n",
            "A mask raster has been created: /gdrive/Shareddrives/masfi/6_scenarios/scenario_masks/mask_forest_2005.tif\n",
            "A mask raster has been created: /gdrive/Shareddrives/masfi/6_scenarios/scenario_masks/mask_forest_2006.tif\n",
            "A mask raster has been created: /gdrive/Shareddrives/masfi/6_scenarios/scenario_masks/mask_forest_2007.tif\n",
            "A mask raster has been created: /gdrive/Shareddrives/masfi/6_scenarios/scenario_masks/mask_forest_2008.tif\n",
            "A mask raster has been created: /gdrive/Shareddrives/masfi/6_scenarios/scenario_masks/mask_forest_2009.tif\n",
            "A mask raster has been created: /gdrive/Shareddrives/masfi/6_scenarios/scenario_masks/mask_forest_2010.tif\n",
            "A mask raster has been created: /gdrive/Shareddrives/masfi/6_scenarios/scenario_masks/mask_forest_2011.tif\n",
            "A mask raster has been created: /gdrive/Shareddrives/masfi/6_scenarios/scenario_masks/mask_forest_2012.tif\n",
            "A mask raster has been created: /gdrive/Shareddrives/masfi/6_scenarios/scenario_masks/mask_forest_2013.tif\n",
            "A mask raster has been created: /gdrive/Shareddrives/masfi/6_scenarios/scenario_masks/mask_forest_2014.tif\n",
            "A mask raster has been created: /gdrive/Shareddrives/masfi/6_scenarios/scenario_masks/mask_forest_2015.tif\n",
            "A mask raster has been created: /gdrive/Shareddrives/masfi/6_scenarios/scenario_masks/mask_forest_2016.tif\n",
            "A mask raster has been created: /gdrive/Shareddrives/masfi/6_scenarios/scenario_masks/mask_forest_2017.tif\n",
            "A mask raster has been created: /gdrive/Shareddrives/masfi/6_scenarios/scenario_masks/mask_forest_2018.tif\n",
            "A mask raster has been created: /gdrive/Shareddrives/masfi/6_scenarios/scenario_masks/mask_forest_2019.tif\n",
            "A mask raster has been created: /gdrive/Shareddrives/masfi/6_scenarios/scenario_masks/mask_forest_2020.tif\n",
            "A mask raster has been created: /gdrive/Shareddrives/masfi/6_scenarios/scenario_masks/mask_forest_2021.tif\n",
            "A mask raster has been created: /gdrive/Shareddrives/masfi/6_scenarios/scenario_masks/mask_forest_2022.tif\n",
            "A mask raster has been created: /gdrive/Shareddrives/masfi/6_scenarios/scenario_masks/mask_forest_2023.tif\n"
          ]
        }
      ],
      "source": [
        "mask_types = [\n",
        "'forest',\n",
        "# 'lu',\n",
        "# 'disturbance',\n",
        "]\n",
        "\n",
        "# Create list of binary rasters to mask\n",
        "binary_mask_list = []\n",
        "for mask_type in mask_types:\n",
        "  for binary in os.listdir(binary_dir):\n",
        "    if mask_type in binary:\n",
        "      binary_mask_list.append(binary)\n",
        "\n",
        "# Binary progress\n",
        "mask_progress_index = 0\n",
        "mask_progress_label = widgets.Label(f\"Binary progress: {mask_progress_index}/{len(binary_mask_list)}\")\n",
        "display(mask_progress_label)\n",
        "\n",
        "# Create masks from the selected binary raster type\n",
        "for mask_type in mask_types:\n",
        "  for binary in binary_mask_list:\n",
        "    binary_path = join(binary_dir, binary)\n",
        "    try: year = str(int(binary[-8:-4])) # Check for year\n",
        "    except: year = None\n",
        "    mask_raster_path = join(scenario_mask_dir, f\"mask_{mask_type}_{year}.tif\")\n",
        "    if not exists(mask_raster_path):\n",
        "        binary_raster = gdal.Open(binary_path)\n",
        "        binary_array = gdal.Open(binary_path).ReadAsArray()\n",
        "        mask_array = np.where(binary_array == 0, nodatavalue, 1)\n",
        "        export_array_as_tif(mask_array, mask_raster_path)\n",
        "        print(f\"A mask raster has been created: {mask_raster_path}\")\n",
        "    else: print(f\"A mask raster already exists at: {mask_raster_path}\")\n",
        "    # Update mask progress\n",
        "    mask_progress_index += 1\n",
        "    mask_progress_label.value = f\"Binary progress: {mask_progress_index}/{len(binary_mask_list)}\""
      ]
    },
    {
      "cell_type": "markdown",
      "metadata": {
        "id": "GCv0mNkb2pIY"
      },
      "source": [
        "# Binary predictor edge effects"
      ]
    },
    {
      "cell_type": "code",
      "execution_count": null,
      "metadata": {
        "id": "tqkninr4qy-g",
        "colab": {
          "base_uri": "https://localhost:8080/",
          "height": 49,
          "referenced_widgets": [
            "175029745db04d568b30939f758c9401",
            "1cc3168bb02a4bcb814b45dae46fcfa3",
            "9c4e19cc94b74fb6bb254ac04729b740"
          ]
        },
        "outputId": "5cbdf97a-dc10-48a8-f92e-b479447f9a2e"
      },
      "outputs": [
        {
          "output_type": "display_data",
          "data": {
            "text/plain": [
              "Label(value='Edge effect progress: 0/79')"
            ],
            "application/vnd.jupyter.widget-view+json": {
              "version_major": 2,
              "version_minor": 0,
              "model_id": "175029745db04d568b30939f758c9401"
            }
          },
          "metadata": {}
        }
      ],
      "source": [
        "# Set smoothing kernel\n",
        "kernel = Gaussian2DKernel(x_stddev=3, y_stddev=3)\n",
        "# Set precision\n",
        "precision = 2\n",
        "\n",
        "binary_list = []\n",
        "for binary_raster in os.listdir(binary_dir) + os.listdir(resampled_dir):\n",
        "  if \"binary\" in binary_raster:\n",
        "    binary_list.append(binary_raster)\n",
        "\n",
        "# Edge effect progress\n",
        "edge_effect_progress_index = 0\n",
        "edge_effect_progress_label = widgets.Label(f\"Edge effect progress: {edge_effect_progress_index}/{len(binary_list)}\")\n",
        "display(edge_effect_progress_label)\n",
        "\n",
        "for binary_raster in binary_list:\n",
        "  if \"binary\" in binary_raster:\n",
        "    edge_effects_filename = binary_raster.replace('binary', 'with_edge_effects')\n",
        "    edge_effects_path = join(edge_effects_dir, edge_effects_filename)\n",
        "    if not exists(edge_effects_path):\n",
        "      binary_raster_path = join(binary_dir, binary_raster)\n",
        "      if not exists(binary_raster_path): binary_raster_path = join(resampled_dir, binary_raster)\n",
        "      binary_array = gdal.Open(binary_raster_path).ReadAsArray()\n",
        "      # Reclassify for binary differentiation after proximity conversion\n",
        "      differentiator_array = binary_array.copy()\n",
        "      differentiator_array[differentiator_array == 1] = 10\n",
        "      # Positive proximity\n",
        "      positive_distances = distance_transform_edt(binary_array == 0) # target pixels\n",
        "      positive_proximity_array = np.where(positive_distances > 2, 0, positive_distances) # max distance 2\n",
        "      # Negative proximity\n",
        "      negative_distances = distance_transform_edt(binary_array == 1) # target pixels\n",
        "      negative_proximity_array = np.where(negative_distances > 2, 0, negative_distances) # max distance 2\n",
        "      # Sum proximities and differentiator\n",
        "      pixel_prox_summed =  differentiator_array + positive_proximity_array + negative_proximity_array\n",
        "      # Reclassify for better semantic understanding of pixel proximity\n",
        "      pixel_prox_reclassed = pixel_prox_summed.copy()\n",
        "      pixel_prox_reclass_table = [(0, 0, -4), (1, 1, -1), (1.4, 1.5, -2), (2, 2, -3), (10, 10, 3), (11, 11, 0), (11.4, 11.5, 1), (12, 12, 2)]\n",
        "      for min_value, max_value, new_value in pixel_prox_reclass_table:\n",
        "        pixel_prox_reclassed[(pixel_prox_reclassed >= min_value) & (pixel_prox_reclassed <= max_value)] = new_value\n",
        "      # Smooth binary array using 2D convolution\n",
        "      binary_smoothed = convolve(binary_array, kernel, boundary='extend')\n",
        "      # Sum pixel proximity and smoothed binary array\n",
        "      edge_effects_array = np.round(pixel_prox_reclassed + binary_smoothed, precision)\n",
        "      # Export edge effects predictors\n",
        "      export_array_as_tif(edge_effects_array, edge_effects_path)\n",
        "\n",
        "  # Update binary progress\n",
        "  edge_effect_progress_index += 1\n",
        "  edge_effect_progress_label.value = f\"Edge effect progress: {edge_effect_progress_index}/{len(binary_list)}\""
      ]
    },
    {
      "cell_type": "markdown",
      "metadata": {
        "id": "K6r7JXbijM50"
      },
      "source": [
        "# Disconnect runtime"
      ]
    },
    {
      "cell_type": "code",
      "execution_count": null,
      "metadata": {
        "id": "WU_AC6MjNfTN"
      },
      "outputs": [],
      "source": [
        "# Useful for stopping background execution\n",
        "runtime.unassign()"
      ]
    }
  ],
  "metadata": {
    "accelerator": "TPU",
    "colab": {
      "collapsed_sections": [
        "-yk8CnJRCYVQ",
        "kSuevzw7xyil",
        "XIBbo-gsS3nD",
        "5-UOVsvRuHNS",
        "EhukvPP02gBm",
        "XJnV0l75FpPN",
        "yKSLJnR4SE5H",
        "GCv0mNkb2pIY"
      ],
      "gpuType": "V28",
      "machine_shape": "hm",
      "provenance": [],
      "toc_visible": true,
      "include_colab_link": true
    },
    "kernelspec": {
      "display_name": "Python 3",
      "name": "python3"
    },
    "language_info": {
      "name": "python"
    },
    "widgets": {
      "application/vnd.jupyter.widget-state+json": {
        "f637cb7a6f6f4a80babe555208858f33": {
          "model_module": "@jupyter-widgets/controls",
          "model_name": "LabelModel",
          "model_module_version": "1.5.0",
          "state": {
            "_dom_classes": [],
            "_model_module": "@jupyter-widgets/controls",
            "_model_module_version": "1.5.0",
            "_model_name": "LabelModel",
            "_view_count": null,
            "_view_module": "@jupyter-widgets/controls",
            "_view_module_version": "1.5.0",
            "_view_name": "LabelView",
            "description": "",
            "description_tooltip": null,
            "layout": "IPY_MODEL_7ac9b443d3dd4a8fb16fc012a09b4caf",
            "placeholder": "​",
            "style": "IPY_MODEL_da2e6cdd8b574a27ade398634aae7fd1",
            "value": "Binary progress: 68/68"
          }
        },
        "7ac9b443d3dd4a8fb16fc012a09b4caf": {
          "model_module": "@jupyter-widgets/base",
          "model_name": "LayoutModel",
          "model_module_version": "1.2.0",
          "state": {
            "_model_module": "@jupyter-widgets/base",
            "_model_module_version": "1.2.0",
            "_model_name": "LayoutModel",
            "_view_count": null,
            "_view_module": "@jupyter-widgets/base",
            "_view_module_version": "1.2.0",
            "_view_name": "LayoutView",
            "align_content": null,
            "align_items": null,
            "align_self": null,
            "border": null,
            "bottom": null,
            "display": null,
            "flex": null,
            "flex_flow": null,
            "grid_area": null,
            "grid_auto_columns": null,
            "grid_auto_flow": null,
            "grid_auto_rows": null,
            "grid_column": null,
            "grid_gap": null,
            "grid_row": null,
            "grid_template_areas": null,
            "grid_template_columns": null,
            "grid_template_rows": null,
            "height": null,
            "justify_content": null,
            "justify_items": null,
            "left": null,
            "margin": null,
            "max_height": null,
            "max_width": null,
            "min_height": null,
            "min_width": null,
            "object_fit": null,
            "object_position": null,
            "order": null,
            "overflow": null,
            "overflow_x": null,
            "overflow_y": null,
            "padding": null,
            "right": null,
            "top": null,
            "visibility": null,
            "width": null
          }
        },
        "da2e6cdd8b574a27ade398634aae7fd1": {
          "model_module": "@jupyter-widgets/controls",
          "model_name": "DescriptionStyleModel",
          "model_module_version": "1.5.0",
          "state": {
            "_model_module": "@jupyter-widgets/controls",
            "_model_module_version": "1.5.0",
            "_model_name": "DescriptionStyleModel",
            "_view_count": null,
            "_view_module": "@jupyter-widgets/base",
            "_view_module_version": "1.2.0",
            "_view_name": "StyleView",
            "description_width": ""
          }
        },
        "b939a4df0d4742f7a6ee230cac2d0546": {
          "model_module": "@jupyter-widgets/controls",
          "model_name": "LabelModel",
          "model_module_version": "1.5.0",
          "state": {
            "_dom_classes": [],
            "_model_module": "@jupyter-widgets/controls",
            "_model_module_version": "1.5.0",
            "_model_name": "LabelModel",
            "_view_count": null,
            "_view_module": "@jupyter-widgets/controls",
            "_view_module_version": "1.5.0",
            "_view_name": "LabelView",
            "description": "",
            "description_tooltip": null,
            "layout": "IPY_MODEL_37baf121db1642ae818dd541987eab67",
            "placeholder": "​",
            "style": "IPY_MODEL_9a2c674f57b94286b1e5f7778cb5375c",
            "value": "Binary progress: 34/34"
          }
        },
        "37baf121db1642ae818dd541987eab67": {
          "model_module": "@jupyter-widgets/base",
          "model_name": "LayoutModel",
          "model_module_version": "1.2.0",
          "state": {
            "_model_module": "@jupyter-widgets/base",
            "_model_module_version": "1.2.0",
            "_model_name": "LayoutModel",
            "_view_count": null,
            "_view_module": "@jupyter-widgets/base",
            "_view_module_version": "1.2.0",
            "_view_name": "LayoutView",
            "align_content": null,
            "align_items": null,
            "align_self": null,
            "border": null,
            "bottom": null,
            "display": null,
            "flex": null,
            "flex_flow": null,
            "grid_area": null,
            "grid_auto_columns": null,
            "grid_auto_flow": null,
            "grid_auto_rows": null,
            "grid_column": null,
            "grid_gap": null,
            "grid_row": null,
            "grid_template_areas": null,
            "grid_template_columns": null,
            "grid_template_rows": null,
            "height": null,
            "justify_content": null,
            "justify_items": null,
            "left": null,
            "margin": null,
            "max_height": null,
            "max_width": null,
            "min_height": null,
            "min_width": null,
            "object_fit": null,
            "object_position": null,
            "order": null,
            "overflow": null,
            "overflow_x": null,
            "overflow_y": null,
            "padding": null,
            "right": null,
            "top": null,
            "visibility": null,
            "width": null
          }
        },
        "9a2c674f57b94286b1e5f7778cb5375c": {
          "model_module": "@jupyter-widgets/controls",
          "model_name": "DescriptionStyleModel",
          "model_module_version": "1.5.0",
          "state": {
            "_model_module": "@jupyter-widgets/controls",
            "_model_module_version": "1.5.0",
            "_model_name": "DescriptionStyleModel",
            "_view_count": null,
            "_view_module": "@jupyter-widgets/base",
            "_view_module_version": "1.2.0",
            "_view_name": "StyleView",
            "description_width": ""
          }
        },
        "175029745db04d568b30939f758c9401": {
          "model_module": "@jupyter-widgets/controls",
          "model_name": "LabelModel",
          "model_module_version": "1.5.0",
          "state": {
            "_dom_classes": [],
            "_model_module": "@jupyter-widgets/controls",
            "_model_module_version": "1.5.0",
            "_model_name": "LabelModel",
            "_view_count": null,
            "_view_module": "@jupyter-widgets/controls",
            "_view_module_version": "1.5.0",
            "_view_name": "LabelView",
            "description": "",
            "description_tooltip": null,
            "layout": "IPY_MODEL_1cc3168bb02a4bcb814b45dae46fcfa3",
            "placeholder": "​",
            "style": "IPY_MODEL_9c4e19cc94b74fb6bb254ac04729b740",
            "value": "Edge effect progress: 79/79"
          }
        },
        "1cc3168bb02a4bcb814b45dae46fcfa3": {
          "model_module": "@jupyter-widgets/base",
          "model_name": "LayoutModel",
          "model_module_version": "1.2.0",
          "state": {
            "_model_module": "@jupyter-widgets/base",
            "_model_module_version": "1.2.0",
            "_model_name": "LayoutModel",
            "_view_count": null,
            "_view_module": "@jupyter-widgets/base",
            "_view_module_version": "1.2.0",
            "_view_name": "LayoutView",
            "align_content": null,
            "align_items": null,
            "align_self": null,
            "border": null,
            "bottom": null,
            "display": null,
            "flex": null,
            "flex_flow": null,
            "grid_area": null,
            "grid_auto_columns": null,
            "grid_auto_flow": null,
            "grid_auto_rows": null,
            "grid_column": null,
            "grid_gap": null,
            "grid_row": null,
            "grid_template_areas": null,
            "grid_template_columns": null,
            "grid_template_rows": null,
            "height": null,
            "justify_content": null,
            "justify_items": null,
            "left": null,
            "margin": null,
            "max_height": null,
            "max_width": null,
            "min_height": null,
            "min_width": null,
            "object_fit": null,
            "object_position": null,
            "order": null,
            "overflow": null,
            "overflow_x": null,
            "overflow_y": null,
            "padding": null,
            "right": null,
            "top": null,
            "visibility": null,
            "width": null
          }
        },
        "9c4e19cc94b74fb6bb254ac04729b740": {
          "model_module": "@jupyter-widgets/controls",
          "model_name": "DescriptionStyleModel",
          "model_module_version": "1.5.0",
          "state": {
            "_model_module": "@jupyter-widgets/controls",
            "_model_module_version": "1.5.0",
            "_model_name": "DescriptionStyleModel",
            "_view_count": null,
            "_view_module": "@jupyter-widgets/base",
            "_view_module_version": "1.2.0",
            "_view_name": "StyleView",
            "description_width": ""
          }
        }
      }
    }
  },
  "nbformat": 4,
  "nbformat_minor": 0
}