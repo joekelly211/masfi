{
  "cells": [
    {
      "cell_type": "markdown",
      "metadata": {
        "id": "view-in-github",
        "colab_type": "text"
      },
      "source": [
        "<a href=\"https://colab.research.google.com/github/joekelly211/masfi/blob/dev/9_stats_ready_rasters.ipynb\" target=\"_parent\"><img src=\"https://colab.research.google.com/assets/colab-badge.svg\" alt=\"Open In Colab\"/></a>"
      ]
    },
    {
      "cell_type": "markdown",
      "metadata": {
        "id": "gUUhJgLFYI88"
      },
      "source": [
        "# Imports, directories and functions"
      ]
    },
    {
      "cell_type": "code",
      "execution_count": null,
      "metadata": {
        "id": "lr4kdJvHapxh"
      },
      "outputs": [],
      "source": [
        "# Define base directory\n",
        "# Use '/content/drive/MyDrive/' for a personal drive\n",
        "# Use '/gdrive/Shareddrives/' for a shared drive (must be created first)\n",
        "\n",
        "base_dir = \"/gdrive/Shareddrives/masfi_asartr\"\n",
        "# base_dir = '/content/drive/MyDrive/masfi_asartr'\n",
        "\n",
        "# Mount Google Drive\n",
        "from google.colab import drive\n",
        "import os\n",
        "import sys\n",
        "if base_dir.startswith('/gdrive/Shareddrives/'):\n",
        "  drive.mount('/gdrive', force_remount=True)\n",
        "elif base_dir.startswith('/content/drive/MyDrive/'):\n",
        "  drive.mount('/content/drive', force_remount=True)\n",
        "  os.makedirs(base_dir, exist_ok=True)\n",
        "else: print(\"Create a base_dir beginning with '/gdrive/Shareddrives/' or '/content/drive/MyDrive/'.\")\n",
        "\n",
        "_path_to_add = os.path.realpath(base_dir)\n",
        "if _path_to_add not in sys.path:\n",
        "    sys.path.append(_path_to_add)"
      ]
    },
    {
      "cell_type": "code",
      "source": [
        "# Capture outputs\n",
        "%%capture\n",
        "# Imports and upgrades\n",
        "!pip install geopandas\n",
        "!pip install kaleido\n",
        "!pip install rasterio"
      ],
      "metadata": {
        "id": "nql8mgfnZyhB"
      },
      "execution_count": null,
      "outputs": []
    },
    {
      "cell_type": "code",
      "execution_count": null,
      "metadata": {
        "id": "DOQrLyVyW1Qa"
      },
      "outputs": [],
      "source": [
        "# Reload imports, replacing those in the cache\n",
        "%load_ext autoreload\n",
        "%autoreload 2\n",
        "# Imports\n",
        "import geopandas as gpd\n",
        "from google.colab import runtime\n",
        "import math\n",
        "import numpy as np\n",
        "from os.path import exists, join\n",
        "from os import makedirs\n",
        "from osgeo import gdal\n",
        "import pandas as pd\n",
        "import plotly.graph_objects as go\n",
        "import rasterio\n",
        "from rasterio import mask as msk\n",
        "from ipywidgets import widgets\n",
        "from IPython.display import display"
      ]
    },
    {
      "cell_type": "code",
      "source": [
        "areas_dir = join(base_dir, \"1_areas\")\n",
        "scenarios_dir = join(base_dir, \"6_scenarios\")\n",
        "predictions_dir = join(base_dir, \"7_predictions\")\n",
        "stats_ready_dir = join(base_dir, \"9_stats_ready_rasters\")\n",
        "\n",
        "# Create directories\n",
        "makedirs(stats_ready_dir, exist_ok=True)"
      ],
      "metadata": {
        "id": "1bN2KOnrZFvY"
      },
      "execution_count": null,
      "outputs": []
    },
    {
      "cell_type": "code",
      "source": [
        "areas_dir = join(base_dir, \"1_areas\")\n",
        "cell_area_path = join(areas_dir, \"cell_area.tif\")\n",
        "\n",
        "# Global function: export an array as a .tif\n",
        "template_tif_path = join(areas_dir, \"template.tif\")\n",
        "nodatavalue = -1111111\n",
        "compress = True\n",
        "def export_array_as_tif(input_array, output_tif, template=template_tif_path, nodatavalue=nodatavalue, compress=compress):\n",
        "  template = gdal.Open(template)\n",
        "  template_band = template.GetRasterBand(1)\n",
        "  template_dimensions, template_projection = template.GetGeoTransform(), template.GetProjection()\n",
        "  if compress: driver = gdal.GetDriverByName(\"GTiff\").Create(output_tif, template_band.XSize, template_band.YSize, bands=1, eType=gdal.GDT_Float32,\n",
        "                                                options=[\"COMPRESS=DEFLATE\",\"PREDICTOR=2\",\"ZLEVEL=9\"])\n",
        "  if compress == False: driver = gdal.GetDriverByName(\"GTiff\").Create(output_tif, template_band.XSize, template_band.YSize, bands=1, eType=gdal.GDT_Float32)\n",
        "  driver.GetRasterBand(1).WriteArray(input_array)\n",
        "  driver.GetRasterBand(1).SetNoDataValue(nodatavalue)\n",
        "  driver.SetGeoTransform(template_dimensions)\n",
        "  driver.SetProjection(template_projection)"
      ],
      "metadata": {
        "id": "kb2lqtUz4Yw2"
      },
      "execution_count": null,
      "outputs": []
    },
    {
      "cell_type": "markdown",
      "source": [
        "# Process stats-ready rasters"
      ],
      "metadata": {
        "id": "SckYVmYVYdQO"
      }
    },
    {
      "cell_type": "code",
      "source": [
        "# Select if to source predictions from scenarios_dir or predictions_dir\n",
        "source_dir = predictions_dir\n",
        "# source_dir = scenarios_dir\n",
        "\n",
        "source_dir_name = f\"{source_dir.split('_')[-1]}_dir\"\n",
        "\n",
        "# Select the model\n",
        "for subdir in os.listdir(source_dir):\n",
        "  if 'scenario_masks' not in subdir:\n",
        "    print(f\"selected_model = '{subdir}'\")"
      ],
      "metadata": {
        "id": "S_DPGXYeYgfY"
      },
      "execution_count": null,
      "outputs": []
    },
    {
      "cell_type": "code",
      "source": [
        "selected_model = 'agbd_historic_250429_223033'\n",
        "\n",
        "selected_model_dir = join(source_dir, selected_model)\n",
        "# Select the prediction area\n",
        "for subdir in os.listdir(selected_model_dir):\n",
        "  if source_dir == scenarios_dir and not subdir.endswith('.csv') and not subdir.endswith('.json'):\n",
        "    print(f\"prediction_area = '{subdir}'\")\n",
        "  if source_dir == predictions_dir and subdir != 'model_iterations':\n",
        "    print(f\"prediction_area = '{subdir[10:]}'\")"
      ],
      "metadata": {
        "id": "A4wo8AlVYhCC"
      },
      "execution_count": null,
      "outputs": []
    },
    {
      "cell_type": "code",
      "source": [
        "prediction_area = 'asartr'\n",
        "\n",
        "# Model-area stats directory\n",
        "model_area_sr_dir = join(stats_ready_dir, f\"{selected_model}_{source_dir_name}_{prediction_area}\")\n",
        "makedirs(model_area_sr_dir, exist_ok=True)\n",
        "\n",
        "stats_ready_scenario_dir = join(model_area_sr_dir, 'scenarios')\n",
        "stats_ready_dist_dir = join(model_area_sr_dir, 'disturbance')\n",
        "makedirs(stats_ready_scenario_dir, exist_ok=True)\n",
        "makedirs(stats_ready_dist_dir, exist_ok=True)\n",
        "\n",
        "if source_dir == scenarios_dir: scenario_raster_dir = join(selected_model_dir, prediction_area, 'scenario_predictions')\n",
        "if source_dir == predictions_dir: scenario_raster_dir = join(selected_model_dir, f'scenarios_{prediction_area}', 'statistics_masked')\n",
        "if source_dir == scenarios_dir: dist_raster_dir = join(selected_model_dir, prediction_area, 'scenario_disturbance')\n",
        "if source_dir == predictions_dir: dist_raster_dir = join(selected_model_dir, f'scenarios_{prediction_area}', 'scenario_disturbance')"
      ],
      "metadata": {
        "id": "rq75fhgdYkTz"
      },
      "execution_count": null,
      "outputs": []
    },
    {
      "cell_type": "code",
      "source": [
        "# List all raster files in source directories\n",
        "scenario_mean_rasters = []\n",
        "scenario_uncertainty_rasters = []\n",
        "dist_mean_rasters = []\n",
        "dist_uncertainty_rasters = []\n",
        "\n",
        "# Collect scenario rasters\n",
        "if os.path.exists(scenario_raster_dir):\n",
        "    for f in os.listdir(scenario_raster_dir):\n",
        "        if f.endswith('.tif'):\n",
        "            full_path = join(scenario_raster_dir, f)\n",
        "            if source_dir == predictions_dir:\n",
        "                if 'mean__' in f:\n",
        "                    scenario_mean_rasters.append(full_path)\n",
        "                elif 'uncertainty__' in f:\n",
        "                    scenario_uncertainty_rasters.append(full_path)\n",
        "            else:  # scenarios_dir doesn't contain uncertainty rasters\n",
        "                scenario_mean_rasters.append(full_path)\n",
        "\n",
        "# Collect disturbance rasters\n",
        "if os.path.exists(dist_raster_dir):\n",
        "    for f in os.listdir(dist_raster_dir):\n",
        "        if f.endswith('.tif'):\n",
        "            full_path = join(dist_raster_dir, f)\n",
        "            if source_dir == predictions_dir:\n",
        "                if 'mean__' in f:\n",
        "                    dist_mean_rasters.append(full_path)\n",
        "                elif 'uncertainty__' in f:\n",
        "                    dist_uncertainty_rasters.append(full_path)\n",
        "            else:  # scenarios_dir doesn't contain uncertainty rasters\n",
        "                dist_mean_rasters.append(full_path)\n",
        "\n",
        "# Sort rasters chronologically\n",
        "scenario_mean_rasters = sorted(scenario_mean_rasters)\n",
        "scenario_uncertainty_rasters = sorted(scenario_uncertainty_rasters)\n",
        "dist_mean_rasters = sorted(dist_mean_rasters)\n",
        "dist_uncertainty_rasters = sorted(dist_uncertainty_rasters)\n",
        "\n",
        "# Create lookup dictionaries for faster uncertainty matching\n",
        "scenario_uncertainty_lookup = {}\n",
        "for uncertainty_raster in scenario_uncertainty_rasters:\n",
        "    base_name = os.path.basename(uncertainty_raster).replace('uncertainty__', 'mean__')\n",
        "    scenario_uncertainty_lookup[base_name] = uncertainty_raster\n",
        "\n",
        "dist_uncertainty_lookup = {}\n",
        "for uncertainty_raster in dist_uncertainty_rasters:\n",
        "    base_name = os.path.basename(uncertainty_raster).replace('uncertainty__', 'mean__')\n",
        "    dist_uncertainty_lookup[base_name] = uncertainty_raster\n",
        "\n",
        "# Load cell area raster once for efficiency\n",
        "cell_area_ds = gdal.Open(cell_area_path)\n",
        "cell_area_array = cell_area_ds.ReadAsArray()\n",
        "# Convert cell area from m² to ha\n",
        "cell_area_ha = np.divide(cell_area_array, 10000, dtype='float64')\n",
        "\n",
        "# Function to process a batch of rasters\n",
        "def process_rasters(raster_paths, uncertainty_lookup, output_dir, is_disturbance=False):\n",
        "    progress_index = 0\n",
        "    progress_total = len(raster_paths)\n",
        "    raster_type = \"Disturbance\" if is_disturbance else \"Scenario\"\n",
        "    progress_label = widgets.Label(f\"{raster_type} rasters progress: {progress_index}/{progress_total}\")\n",
        "    display(progress_label)\n",
        "\n",
        "    print(f\"Processing {progress_total} {raster_type.lower()} rasters...\")\n",
        "\n",
        "    for raster_path in raster_paths:\n",
        "        base_filename = os.path.basename(raster_path)\n",
        "\n",
        "        # Create output filenames based on source directory\n",
        "        if source_dir == predictions_dir:\n",
        "            name = base_filename.split('__')[1].split('.')[0]\n",
        "            output_agb_mg = join(output_dir, f\"agb_total_mg__{name}.tif\")\n",
        "            output_agb_ci95_mg = join(output_dir, f\"agb_total_ci95_mg__{name}.tif\")\n",
        "        else:\n",
        "            name = base_filename.split('__')[0].split('.')[0]\n",
        "            output_agb_mg = join(output_dir, f\"{name}__agb_total_mg.tif\")\n",
        "            output_agb_ci95_mg = join(output_dir, f\"{name}__agb_total_ci95_mg.tif\")\n",
        "\n",
        "        # Check if output files already exist\n",
        "        agb_exists = os.path.exists(output_agb_mg)\n",
        "\n",
        "        # Variables to store the raster data and mask\n",
        "        agbd_array = None\n",
        "        nodata = None\n",
        "        valid_mask = None\n",
        "\n",
        "        # Create total AGB raster if it doesn't exist\n",
        "        if not agb_exists:\n",
        "            # Read the mean raster\n",
        "            ds = gdal.Open(raster_path)\n",
        "            agbd_array = ds.ReadAsArray()\n",
        "            # Get nodata value\n",
        "            nodata = int(ds.GetRasterBand(1).GetNoDataValue())\n",
        "\n",
        "            # Create mask for valid data\n",
        "            valid_mask = (agbd_array != nodata)\n",
        "\n",
        "            # Calculate total AGB (Mg) = AGBD (Mg/ha) × pixel area (ha)\n",
        "            total_agb_mg = np.zeros_like(agbd_array, dtype='float32')\n",
        "            total_agb_mg[valid_mask] = agbd_array[valid_mask] * cell_area_ha[valid_mask]\n",
        "            # Explicitly set nodata areas\n",
        "            total_agb_mg[~valid_mask] = nodata\n",
        "\n",
        "            # Export total AGB raster\n",
        "            export_array_as_tif(total_agb_mg, output_agb_mg, template=raster_path)\n",
        "\n",
        "        # Process uncertainty if available\n",
        "        if source_dir == predictions_dir:\n",
        "            base_name = os.path.basename(raster_path)\n",
        "            if base_name in uncertainty_lookup:\n",
        "                # Check if CI95 raster already exists\n",
        "                agb_ci95_exists = os.path.exists(output_agb_ci95_mg)\n",
        "                if not agb_ci95_exists:\n",
        "                    uncertainty_path = uncertainty_lookup[base_name]\n",
        "\n",
        "                    # Read uncertainty raster\n",
        "                    unc_ds = gdal.Open(uncertainty_path)\n",
        "                    uncertainty_array = unc_ds.ReadAsArray()\n",
        "\n",
        "                    # Read original raster if we need to\n",
        "                    if agbd_array is None or valid_mask is None:\n",
        "                        ds = gdal.Open(raster_path)\n",
        "                        agbd_array = ds.ReadAsArray()\n",
        "                        nodata = int(ds.GetRasterBand(1).GetNoDataValue())\n",
        "                        valid_mask = (agbd_array != nodata)\n",
        "\n",
        "                    # Calculate uncertainty as proportion for CI95 calculation\n",
        "                    # Uncertainty is stored as percentage (0-100), divide by 100 to get proportion (0-1)\n",
        "                    uncertainty_proportion = np.divide(uncertainty_array, 100, dtype='float64')\n",
        "\n",
        "                    # Calculate total AGB CI95 (Mg) = AGBD (Mg/ha) × uncertainty proportion × area (ha)\n",
        "                    total_agb_ci95_mg = np.zeros_like(agbd_array, dtype='float32')\n",
        "                    total_agb_ci95_mg[valid_mask] = agbd_array[valid_mask] * uncertainty_proportion[valid_mask] * cell_area_ha[valid_mask]\n",
        "                    # Explicitly set nodata areas\n",
        "                    total_agb_ci95_mg[~valid_mask] = nodata\n",
        "\n",
        "                    # Export total AGB CI95 raster\n",
        "                    export_array_as_tif(total_agb_ci95_mg, output_agb_ci95_mg, template=raster_path)\n",
        "\n",
        "        # Update progress\n",
        "        progress_index += 1\n",
        "        progress_label.value = f\"{raster_type} rasters progress: {progress_index}/{progress_total}\"\n",
        "\n",
        "    return progress_total\n",
        "\n",
        "# Process scenario and disturbance rasters\n",
        "scenario_count = process_rasters(scenario_mean_rasters, scenario_uncertainty_lookup, stats_ready_scenario_dir)\n",
        "dist_count = process_rasters(dist_mean_rasters, dist_uncertainty_lookup, stats_ready_dist_dir, is_disturbance=True)\n",
        "\n",
        "print(f\"Total biomass raster generation complete.\")\n",
        "print(f\"Processed {scenario_count} scenario rasters and {dist_count} disturbance rasters\")\n",
        "print(f\"Results saved to:\\n- {stats_ready_scenario_dir}\\n- {stats_ready_dist_dir}\")"
      ],
      "metadata": {
        "id": "C4bARD5pqLoY"
      },
      "execution_count": null,
      "outputs": []
    },
    {
      "cell_type": "markdown",
      "metadata": {
        "id": "N_RENY6twBXx"
      },
      "source": [
        "# Disconnect runtime"
      ]
    },
    {
      "cell_type": "code",
      "execution_count": null,
      "metadata": {
        "id": "h__20O9kwA9K"
      },
      "outputs": [],
      "source": [
        "# Useful for stopping background execution\n",
        "runtime.unassign()"
      ]
    }
  ],
  "metadata": {
    "accelerator": "TPU",
    "colab": {
      "gpuType": "V28",
      "machine_shape": "hm",
      "provenance": [],
      "toc_visible": true,
      "include_colab_link": true
    },
    "kernelspec": {
      "display_name": "Python 3",
      "name": "python3"
    },
    "language_info": {
      "name": "python"
    }
  },
  "nbformat": 4,
  "nbformat_minor": 0
}